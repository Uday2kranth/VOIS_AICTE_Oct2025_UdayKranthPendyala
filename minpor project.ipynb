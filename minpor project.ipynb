{
 "cells": [
  {
   "cell_type": "code",
   "execution_count": 34,
   "id": "04e5c12f",
   "metadata": {},
   "outputs": [],
   "source": [
    "import numpy as np\n",
    "import pandas as pd\n",
    "import matplotlib.pyplot as plt\n",
    "import seaborn as sns \n",
    "import plotly.express as Px\n",
    "\n"
   ]
  },
  {
   "cell_type": "code",
   "execution_count": 35,
   "id": "cdfb5bca",
   "metadata": {},
   "outputs": [],
   "source": [
    "# df=pd.read_csv(r\"D:/vadafone/Airbnb_Open_Data.csv\")"
   ]
  },
  {
   "cell_type": "code",
   "execution_count": 36,
   "id": "a390917c",
   "metadata": {},
   "outputs": [
    {
     "name": "stdout",
     "output_type": "stream",
     "text": [
      "Shape: (102599, 26)\n",
      "Columns: 26\n",
      "Rows: 102599\n"
     ]
    }
   ],
   "source": [
    "# Load the dataset with proper handling for mixed data types\n",
    "df = pd.read_csv(r\"D:/vadafone/Airbnb_Open_Data.csv\", low_memory=False)\n",
    "\n",
    "# Display basic info about the dataset\n",
    "\n",
    "print(f\"Shape: {df.shape}\")\n",
    "print(f\"Columns: {len(df.columns)}\")\n",
    "print(f\"Rows: {len(df)}\")"
   ]
  },
  {
   "cell_type": "code",
   "execution_count": 37,
   "id": "31da5f0c",
   "metadata": {},
   "outputs": [
    {
     "data": {
      "application/vnd.microsoft.datawrangler.viewer.v0+json": {
       "columns": [
        {
         "name": "index",
         "rawType": "int64",
         "type": "integer"
        },
        {
         "name": "id",
         "rawType": "int64",
         "type": "integer"
        },
        {
         "name": "NAME",
         "rawType": "object",
         "type": "unknown"
        },
        {
         "name": "host id",
         "rawType": "int64",
         "type": "integer"
        },
        {
         "name": "host_identity_verified",
         "rawType": "object",
         "type": "unknown"
        },
        {
         "name": "host name",
         "rawType": "object",
         "type": "string"
        },
        {
         "name": "neighbourhood group",
         "rawType": "object",
         "type": "string"
        },
        {
         "name": "neighbourhood",
         "rawType": "object",
         "type": "string"
        },
        {
         "name": "lat",
         "rawType": "float64",
         "type": "float"
        },
        {
         "name": "long",
         "rawType": "float64",
         "type": "float"
        },
        {
         "name": "country",
         "rawType": "object",
         "type": "string"
        },
        {
         "name": "country code",
         "rawType": "object",
         "type": "string"
        },
        {
         "name": "instant_bookable",
         "rawType": "object",
         "type": "unknown"
        },
        {
         "name": "cancellation_policy",
         "rawType": "object",
         "type": "string"
        },
        {
         "name": "room type",
         "rawType": "object",
         "type": "string"
        },
        {
         "name": "Construction year",
         "rawType": "float64",
         "type": "float"
        },
        {
         "name": "price",
         "rawType": "object",
         "type": "string"
        },
        {
         "name": "service fee",
         "rawType": "object",
         "type": "string"
        },
        {
         "name": "minimum nights",
         "rawType": "float64",
         "type": "float"
        },
        {
         "name": "number of reviews",
         "rawType": "float64",
         "type": "float"
        },
        {
         "name": "last review",
         "rawType": "object",
         "type": "unknown"
        },
        {
         "name": "reviews per month",
         "rawType": "float64",
         "type": "float"
        },
        {
         "name": "review rate number",
         "rawType": "float64",
         "type": "float"
        },
        {
         "name": "calculated host listings count",
         "rawType": "float64",
         "type": "float"
        },
        {
         "name": "availability 365",
         "rawType": "float64",
         "type": "float"
        },
        {
         "name": "house_rules",
         "rawType": "object",
         "type": "unknown"
        },
        {
         "name": "license",
         "rawType": "object",
         "type": "unknown"
        }
       ],
       "ref": "579e737d-0bfe-4f9b-90b6-ec37975e41f0",
       "rows": [
        [
         "0",
         "1001254",
         "Clean & quiet apt home by the park",
         "80014485718",
         "unconfirmed",
         "Madaline",
         "Brooklyn",
         "Kensington",
         "40.64749",
         "-73.97237",
         "United States",
         "US",
         "False",
         "strict",
         "Private room",
         "2020.0",
         "$966 ",
         "$193 ",
         "10.0",
         "9.0",
         "19-10-2021",
         "0.21",
         "4.0",
         "6.0",
         "286.0",
         "Clean up and treat the home the way you'd like your home to be treated.  No smoking.",
         null
        ],
        [
         "1",
         "1002102",
         "Skylit Midtown Castle",
         "52335172823",
         "verified",
         "Jenna",
         "Manhattan",
         "Midtown",
         "40.75362",
         "-73.98377",
         "United States",
         "US",
         "False",
         "moderate",
         "Entire home/apt",
         "2007.0",
         "$142 ",
         "$28 ",
         "30.0",
         "45.0",
         "21-05-2022",
         "0.38",
         "4.0",
         "2.0",
         "228.0",
         "Pet friendly but please confirm with me if the pet you are planning on bringing with you is OK. I have a cute and quiet mixed chihuahua. I could accept more guests (for an extra fee) but this also needs to be confirmed beforehand. Also friends traveling together could sleep in separate beds for an extra fee (the second bed is either a sofa bed or inflatable bed). Smoking is only allowed on the porch.",
         null
        ],
        [
         "2",
         "1002403",
         "THE VILLAGE OF HARLEM....NEW YORK !",
         "78829239556",
         null,
         "Elise",
         "Manhattan",
         "Harlem",
         "40.80902",
         "-73.9419",
         "United States",
         "US",
         "True",
         "flexible",
         "Private room",
         "2005.0",
         "$620 ",
         "$124 ",
         "3.0",
         "0.0",
         null,
         null,
         "5.0",
         "1.0",
         "352.0",
         "I encourage you to use my kitchen, cooking and laundry facilities. There is no additional charge to use the washer/dryer in the basement.  No smoking, inside or outside. Come home as late as you want.  If you come home stumbling drunk, it's OK the first time. If you do it again, and you wake up me or the neighbors downstairs, we will be annoyed.  (Just so you know . . . )",
         null
        ],
        [
         "3",
         "1002755",
         null,
         "85098326012",
         "unconfirmed",
         "Garry",
         "Brooklyn",
         "Clinton Hill",
         "40.68514",
         "-73.95976",
         "United States",
         "US",
         "True",
         "moderate",
         "Entire home/apt",
         "2005.0",
         "$368 ",
         "$74 ",
         "30.0",
         "270.0",
         "05-07-2019",
         "4.64",
         "4.0",
         "1.0",
         "322.0",
         null,
         null
        ],
        [
         "4",
         "1003689",
         "Entire Apt: Spacious Studio/Loft by central park",
         "92037596077",
         "verified",
         "Lyndon",
         "Manhattan",
         "East Harlem",
         "40.79851",
         "-73.94399",
         "United States",
         "US",
         "False",
         "moderate",
         "Entire home/apt",
         "2009.0",
         "$204 ",
         "$41 ",
         "10.0",
         "9.0",
         "19-11-2018",
         "0.1",
         "3.0",
         "1.0",
         "289.0",
         "Please no smoking in the house, porch or on the property (you can go to the nearby corner).  Reasonable quiet after 10:30 pm.  Please remove shoes in the house.",
         null
        ]
       ],
       "shape": {
        "columns": 26,
        "rows": 5
       }
      },
      "text/html": [
       "<div>\n",
       "<style scoped>\n",
       "    .dataframe tbody tr th:only-of-type {\n",
       "        vertical-align: middle;\n",
       "    }\n",
       "\n",
       "    .dataframe tbody tr th {\n",
       "        vertical-align: top;\n",
       "    }\n",
       "\n",
       "    .dataframe thead th {\n",
       "        text-align: right;\n",
       "    }\n",
       "</style>\n",
       "<table border=\"1\" class=\"dataframe\">\n",
       "  <thead>\n",
       "    <tr style=\"text-align: right;\">\n",
       "      <th></th>\n",
       "      <th>id</th>\n",
       "      <th>NAME</th>\n",
       "      <th>host id</th>\n",
       "      <th>host_identity_verified</th>\n",
       "      <th>host name</th>\n",
       "      <th>neighbourhood group</th>\n",
       "      <th>neighbourhood</th>\n",
       "      <th>lat</th>\n",
       "      <th>long</th>\n",
       "      <th>country</th>\n",
       "      <th>...</th>\n",
       "      <th>service fee</th>\n",
       "      <th>minimum nights</th>\n",
       "      <th>number of reviews</th>\n",
       "      <th>last review</th>\n",
       "      <th>reviews per month</th>\n",
       "      <th>review rate number</th>\n",
       "      <th>calculated host listings count</th>\n",
       "      <th>availability 365</th>\n",
       "      <th>house_rules</th>\n",
       "      <th>license</th>\n",
       "    </tr>\n",
       "  </thead>\n",
       "  <tbody>\n",
       "    <tr>\n",
       "      <th>0</th>\n",
       "      <td>1001254</td>\n",
       "      <td>Clean &amp; quiet apt home by the park</td>\n",
       "      <td>80014485718</td>\n",
       "      <td>unconfirmed</td>\n",
       "      <td>Madaline</td>\n",
       "      <td>Brooklyn</td>\n",
       "      <td>Kensington</td>\n",
       "      <td>40.64749</td>\n",
       "      <td>-73.97237</td>\n",
       "      <td>United States</td>\n",
       "      <td>...</td>\n",
       "      <td>$193</td>\n",
       "      <td>10.0</td>\n",
       "      <td>9.0</td>\n",
       "      <td>19-10-2021</td>\n",
       "      <td>0.21</td>\n",
       "      <td>4.0</td>\n",
       "      <td>6.0</td>\n",
       "      <td>286.0</td>\n",
       "      <td>Clean up and treat the home the way you'd like...</td>\n",
       "      <td>NaN</td>\n",
       "    </tr>\n",
       "    <tr>\n",
       "      <th>1</th>\n",
       "      <td>1002102</td>\n",
       "      <td>Skylit Midtown Castle</td>\n",
       "      <td>52335172823</td>\n",
       "      <td>verified</td>\n",
       "      <td>Jenna</td>\n",
       "      <td>Manhattan</td>\n",
       "      <td>Midtown</td>\n",
       "      <td>40.75362</td>\n",
       "      <td>-73.98377</td>\n",
       "      <td>United States</td>\n",
       "      <td>...</td>\n",
       "      <td>$28</td>\n",
       "      <td>30.0</td>\n",
       "      <td>45.0</td>\n",
       "      <td>21-05-2022</td>\n",
       "      <td>0.38</td>\n",
       "      <td>4.0</td>\n",
       "      <td>2.0</td>\n",
       "      <td>228.0</td>\n",
       "      <td>Pet friendly but please confirm with me if the...</td>\n",
       "      <td>NaN</td>\n",
       "    </tr>\n",
       "    <tr>\n",
       "      <th>2</th>\n",
       "      <td>1002403</td>\n",
       "      <td>THE VILLAGE OF HARLEM....NEW YORK !</td>\n",
       "      <td>78829239556</td>\n",
       "      <td>NaN</td>\n",
       "      <td>Elise</td>\n",
       "      <td>Manhattan</td>\n",
       "      <td>Harlem</td>\n",
       "      <td>40.80902</td>\n",
       "      <td>-73.94190</td>\n",
       "      <td>United States</td>\n",
       "      <td>...</td>\n",
       "      <td>$124</td>\n",
       "      <td>3.0</td>\n",
       "      <td>0.0</td>\n",
       "      <td>NaN</td>\n",
       "      <td>NaN</td>\n",
       "      <td>5.0</td>\n",
       "      <td>1.0</td>\n",
       "      <td>352.0</td>\n",
       "      <td>I encourage you to use my kitchen, cooking and...</td>\n",
       "      <td>NaN</td>\n",
       "    </tr>\n",
       "    <tr>\n",
       "      <th>3</th>\n",
       "      <td>1002755</td>\n",
       "      <td>NaN</td>\n",
       "      <td>85098326012</td>\n",
       "      <td>unconfirmed</td>\n",
       "      <td>Garry</td>\n",
       "      <td>Brooklyn</td>\n",
       "      <td>Clinton Hill</td>\n",
       "      <td>40.68514</td>\n",
       "      <td>-73.95976</td>\n",
       "      <td>United States</td>\n",
       "      <td>...</td>\n",
       "      <td>$74</td>\n",
       "      <td>30.0</td>\n",
       "      <td>270.0</td>\n",
       "      <td>05-07-2019</td>\n",
       "      <td>4.64</td>\n",
       "      <td>4.0</td>\n",
       "      <td>1.0</td>\n",
       "      <td>322.0</td>\n",
       "      <td>NaN</td>\n",
       "      <td>NaN</td>\n",
       "    </tr>\n",
       "    <tr>\n",
       "      <th>4</th>\n",
       "      <td>1003689</td>\n",
       "      <td>Entire Apt: Spacious Studio/Loft by central park</td>\n",
       "      <td>92037596077</td>\n",
       "      <td>verified</td>\n",
       "      <td>Lyndon</td>\n",
       "      <td>Manhattan</td>\n",
       "      <td>East Harlem</td>\n",
       "      <td>40.79851</td>\n",
       "      <td>-73.94399</td>\n",
       "      <td>United States</td>\n",
       "      <td>...</td>\n",
       "      <td>$41</td>\n",
       "      <td>10.0</td>\n",
       "      <td>9.0</td>\n",
       "      <td>19-11-2018</td>\n",
       "      <td>0.10</td>\n",
       "      <td>3.0</td>\n",
       "      <td>1.0</td>\n",
       "      <td>289.0</td>\n",
       "      <td>Please no smoking in the house, porch or on th...</td>\n",
       "      <td>NaN</td>\n",
       "    </tr>\n",
       "  </tbody>\n",
       "</table>\n",
       "<p>5 rows × 26 columns</p>\n",
       "</div>"
      ],
      "text/plain": [
       "        id                                              NAME      host id  \\\n",
       "0  1001254                Clean & quiet apt home by the park  80014485718   \n",
       "1  1002102                             Skylit Midtown Castle  52335172823   \n",
       "2  1002403               THE VILLAGE OF HARLEM....NEW YORK !  78829239556   \n",
       "3  1002755                                               NaN  85098326012   \n",
       "4  1003689  Entire Apt: Spacious Studio/Loft by central park  92037596077   \n",
       "\n",
       "  host_identity_verified host name neighbourhood group neighbourhood  \\\n",
       "0            unconfirmed  Madaline            Brooklyn    Kensington   \n",
       "1               verified     Jenna           Manhattan       Midtown   \n",
       "2                    NaN     Elise           Manhattan        Harlem   \n",
       "3            unconfirmed     Garry            Brooklyn  Clinton Hill   \n",
       "4               verified    Lyndon           Manhattan   East Harlem   \n",
       "\n",
       "        lat      long        country  ... service fee minimum nights  \\\n",
       "0  40.64749 -73.97237  United States  ...       $193            10.0   \n",
       "1  40.75362 -73.98377  United States  ...        $28            30.0   \n",
       "2  40.80902 -73.94190  United States  ...       $124             3.0   \n",
       "3  40.68514 -73.95976  United States  ...        $74            30.0   \n",
       "4  40.79851 -73.94399  United States  ...        $41            10.0   \n",
       "\n",
       "  number of reviews last review  reviews per month review rate number  \\\n",
       "0               9.0  19-10-2021               0.21                4.0   \n",
       "1              45.0  21-05-2022               0.38                4.0   \n",
       "2               0.0         NaN                NaN                5.0   \n",
       "3             270.0  05-07-2019               4.64                4.0   \n",
       "4               9.0  19-11-2018               0.10                3.0   \n",
       "\n",
       "  calculated host listings count  availability 365  \\\n",
       "0                            6.0             286.0   \n",
       "1                            2.0             228.0   \n",
       "2                            1.0             352.0   \n",
       "3                            1.0             322.0   \n",
       "4                            1.0             289.0   \n",
       "\n",
       "                                         house_rules license  \n",
       "0  Clean up and treat the home the way you'd like...     NaN  \n",
       "1  Pet friendly but please confirm with me if the...     NaN  \n",
       "2  I encourage you to use my kitchen, cooking and...     NaN  \n",
       "3                                                NaN     NaN  \n",
       "4  Please no smoking in the house, porch or on th...     NaN  \n",
       "\n",
       "[5 rows x 26 columns]"
      ]
     },
     "execution_count": 37,
     "metadata": {},
     "output_type": "execute_result"
    }
   ],
   "source": [
    "df = pd.read_csv(r\"D:/vadafone/Airbnb_Open_Data.csv\", low_memory=False)\n",
    "df.head()"
   ]
  },
  {
   "cell_type": "code",
   "execution_count": 38,
   "id": "8462b985",
   "metadata": {},
   "outputs": [
    {
     "data": {
      "application/vnd.microsoft.datawrangler.viewer.v0+json": {
       "columns": [
        {
         "name": "index",
         "rawType": "int64",
         "type": "integer"
        },
        {
         "name": "id",
         "rawType": "int64",
         "type": "integer"
        },
        {
         "name": "NAME",
         "rawType": "object",
         "type": "unknown"
        },
        {
         "name": "host id",
         "rawType": "int64",
         "type": "integer"
        },
        {
         "name": "host_identity_verified",
         "rawType": "object",
         "type": "unknown"
        },
        {
         "name": "host name",
         "rawType": "object",
         "type": "string"
        },
        {
         "name": "neighbourhood group",
         "rawType": "object",
         "type": "string"
        },
        {
         "name": "neighbourhood",
         "rawType": "object",
         "type": "string"
        },
        {
         "name": "lat",
         "rawType": "float64",
         "type": "float"
        },
        {
         "name": "long",
         "rawType": "float64",
         "type": "float"
        },
        {
         "name": "country",
         "rawType": "object",
         "type": "string"
        },
        {
         "name": "country code",
         "rawType": "object",
         "type": "string"
        },
        {
         "name": "instant_bookable",
         "rawType": "object",
         "type": "unknown"
        },
        {
         "name": "cancellation_policy",
         "rawType": "object",
         "type": "string"
        },
        {
         "name": "room type",
         "rawType": "object",
         "type": "string"
        },
        {
         "name": "Construction year",
         "rawType": "float64",
         "type": "float"
        },
        {
         "name": "price",
         "rawType": "object",
         "type": "string"
        },
        {
         "name": "service fee",
         "rawType": "object",
         "type": "string"
        },
        {
         "name": "minimum nights",
         "rawType": "float64",
         "type": "float"
        },
        {
         "name": "number of reviews",
         "rawType": "float64",
         "type": "float"
        },
        {
         "name": "last review",
         "rawType": "object",
         "type": "unknown"
        },
        {
         "name": "reviews per month",
         "rawType": "float64",
         "type": "float"
        },
        {
         "name": "review rate number",
         "rawType": "float64",
         "type": "float"
        },
        {
         "name": "calculated host listings count",
         "rawType": "float64",
         "type": "float"
        },
        {
         "name": "availability 365",
         "rawType": "float64",
         "type": "float"
        },
        {
         "name": "house_rules",
         "rawType": "object",
         "type": "unknown"
        },
        {
         "name": "license",
         "rawType": "object",
         "type": "unknown"
        }
       ],
       "ref": "8cf7c546-0ad3-4df3-9fcd-f2ce9ef22f0b",
       "rows": [
        [
         "0",
         "1001254",
         "Clean & quiet apt home by the park",
         "80014485718",
         "unconfirmed",
         "Madaline",
         "Brooklyn",
         "Kensington",
         "40.64749",
         "-73.97237",
         "United States",
         "US",
         "False",
         "strict",
         "Private room",
         "2020.0",
         "$966 ",
         "$193 ",
         "10.0",
         "9.0",
         "19-10-2021",
         "0.21",
         "4.0",
         "6.0",
         "286.0",
         "Clean up and treat the home the way you'd like your home to be treated.  No smoking.",
         null
        ],
        [
         "1",
         "1002102",
         "Skylit Midtown Castle",
         "52335172823",
         "verified",
         "Jenna",
         "Manhattan",
         "Midtown",
         "40.75362",
         "-73.98377",
         "United States",
         "US",
         "False",
         "moderate",
         "Entire home/apt",
         "2007.0",
         "$142 ",
         "$28 ",
         "30.0",
         "45.0",
         "21-05-2022",
         "0.38",
         "4.0",
         "2.0",
         "228.0",
         "Pet friendly but please confirm with me if the pet you are planning on bringing with you is OK. I have a cute and quiet mixed chihuahua. I could accept more guests (for an extra fee) but this also needs to be confirmed beforehand. Also friends traveling together could sleep in separate beds for an extra fee (the second bed is either a sofa bed or inflatable bed). Smoking is only allowed on the porch.",
         null
        ],
        [
         "2",
         "1002403",
         "THE VILLAGE OF HARLEM....NEW YORK !",
         "78829239556",
         null,
         "Elise",
         "Manhattan",
         "Harlem",
         "40.80902",
         "-73.9419",
         "United States",
         "US",
         "True",
         "flexible",
         "Private room",
         "2005.0",
         "$620 ",
         "$124 ",
         "3.0",
         "0.0",
         null,
         null,
         "5.0",
         "1.0",
         "352.0",
         "I encourage you to use my kitchen, cooking and laundry facilities. There is no additional charge to use the washer/dryer in the basement.  No smoking, inside or outside. Come home as late as you want.  If you come home stumbling drunk, it's OK the first time. If you do it again, and you wake up me or the neighbors downstairs, we will be annoyed.  (Just so you know . . . )",
         null
        ],
        [
         "3",
         "1002755",
         null,
         "85098326012",
         "unconfirmed",
         "Garry",
         "Brooklyn",
         "Clinton Hill",
         "40.68514",
         "-73.95976",
         "United States",
         "US",
         "True",
         "moderate",
         "Entire home/apt",
         "2005.0",
         "$368 ",
         "$74 ",
         "30.0",
         "270.0",
         "05-07-2019",
         "4.64",
         "4.0",
         "1.0",
         "322.0",
         null,
         null
        ],
        [
         "4",
         "1003689",
         "Entire Apt: Spacious Studio/Loft by central park",
         "92037596077",
         "verified",
         "Lyndon",
         "Manhattan",
         "East Harlem",
         "40.79851",
         "-73.94399",
         "United States",
         "US",
         "False",
         "moderate",
         "Entire home/apt",
         "2009.0",
         "$204 ",
         "$41 ",
         "10.0",
         "9.0",
         "19-11-2018",
         "0.1",
         "3.0",
         "1.0",
         "289.0",
         "Please no smoking in the house, porch or on the property (you can go to the nearby corner).  Reasonable quiet after 10:30 pm.  Please remove shoes in the house.",
         null
        ]
       ],
       "shape": {
        "columns": 26,
        "rows": 5
       }
      },
      "text/html": [
       "<div>\n",
       "<style scoped>\n",
       "    .dataframe tbody tr th:only-of-type {\n",
       "        vertical-align: middle;\n",
       "    }\n",
       "\n",
       "    .dataframe tbody tr th {\n",
       "        vertical-align: top;\n",
       "    }\n",
       "\n",
       "    .dataframe thead th {\n",
       "        text-align: right;\n",
       "    }\n",
       "</style>\n",
       "<table border=\"1\" class=\"dataframe\">\n",
       "  <thead>\n",
       "    <tr style=\"text-align: right;\">\n",
       "      <th></th>\n",
       "      <th>id</th>\n",
       "      <th>NAME</th>\n",
       "      <th>host id</th>\n",
       "      <th>host_identity_verified</th>\n",
       "      <th>host name</th>\n",
       "      <th>neighbourhood group</th>\n",
       "      <th>neighbourhood</th>\n",
       "      <th>lat</th>\n",
       "      <th>long</th>\n",
       "      <th>country</th>\n",
       "      <th>...</th>\n",
       "      <th>service fee</th>\n",
       "      <th>minimum nights</th>\n",
       "      <th>number of reviews</th>\n",
       "      <th>last review</th>\n",
       "      <th>reviews per month</th>\n",
       "      <th>review rate number</th>\n",
       "      <th>calculated host listings count</th>\n",
       "      <th>availability 365</th>\n",
       "      <th>house_rules</th>\n",
       "      <th>license</th>\n",
       "    </tr>\n",
       "  </thead>\n",
       "  <tbody>\n",
       "    <tr>\n",
       "      <th>0</th>\n",
       "      <td>1001254</td>\n",
       "      <td>Clean &amp; quiet apt home by the park</td>\n",
       "      <td>80014485718</td>\n",
       "      <td>unconfirmed</td>\n",
       "      <td>Madaline</td>\n",
       "      <td>Brooklyn</td>\n",
       "      <td>Kensington</td>\n",
       "      <td>40.64749</td>\n",
       "      <td>-73.97237</td>\n",
       "      <td>United States</td>\n",
       "      <td>...</td>\n",
       "      <td>$193</td>\n",
       "      <td>10.0</td>\n",
       "      <td>9.0</td>\n",
       "      <td>19-10-2021</td>\n",
       "      <td>0.21</td>\n",
       "      <td>4.0</td>\n",
       "      <td>6.0</td>\n",
       "      <td>286.0</td>\n",
       "      <td>Clean up and treat the home the way you'd like...</td>\n",
       "      <td>NaN</td>\n",
       "    </tr>\n",
       "    <tr>\n",
       "      <th>1</th>\n",
       "      <td>1002102</td>\n",
       "      <td>Skylit Midtown Castle</td>\n",
       "      <td>52335172823</td>\n",
       "      <td>verified</td>\n",
       "      <td>Jenna</td>\n",
       "      <td>Manhattan</td>\n",
       "      <td>Midtown</td>\n",
       "      <td>40.75362</td>\n",
       "      <td>-73.98377</td>\n",
       "      <td>United States</td>\n",
       "      <td>...</td>\n",
       "      <td>$28</td>\n",
       "      <td>30.0</td>\n",
       "      <td>45.0</td>\n",
       "      <td>21-05-2022</td>\n",
       "      <td>0.38</td>\n",
       "      <td>4.0</td>\n",
       "      <td>2.0</td>\n",
       "      <td>228.0</td>\n",
       "      <td>Pet friendly but please confirm with me if the...</td>\n",
       "      <td>NaN</td>\n",
       "    </tr>\n",
       "    <tr>\n",
       "      <th>2</th>\n",
       "      <td>1002403</td>\n",
       "      <td>THE VILLAGE OF HARLEM....NEW YORK !</td>\n",
       "      <td>78829239556</td>\n",
       "      <td>NaN</td>\n",
       "      <td>Elise</td>\n",
       "      <td>Manhattan</td>\n",
       "      <td>Harlem</td>\n",
       "      <td>40.80902</td>\n",
       "      <td>-73.94190</td>\n",
       "      <td>United States</td>\n",
       "      <td>...</td>\n",
       "      <td>$124</td>\n",
       "      <td>3.0</td>\n",
       "      <td>0.0</td>\n",
       "      <td>NaN</td>\n",
       "      <td>NaN</td>\n",
       "      <td>5.0</td>\n",
       "      <td>1.0</td>\n",
       "      <td>352.0</td>\n",
       "      <td>I encourage you to use my kitchen, cooking and...</td>\n",
       "      <td>NaN</td>\n",
       "    </tr>\n",
       "    <tr>\n",
       "      <th>3</th>\n",
       "      <td>1002755</td>\n",
       "      <td>NaN</td>\n",
       "      <td>85098326012</td>\n",
       "      <td>unconfirmed</td>\n",
       "      <td>Garry</td>\n",
       "      <td>Brooklyn</td>\n",
       "      <td>Clinton Hill</td>\n",
       "      <td>40.68514</td>\n",
       "      <td>-73.95976</td>\n",
       "      <td>United States</td>\n",
       "      <td>...</td>\n",
       "      <td>$74</td>\n",
       "      <td>30.0</td>\n",
       "      <td>270.0</td>\n",
       "      <td>05-07-2019</td>\n",
       "      <td>4.64</td>\n",
       "      <td>4.0</td>\n",
       "      <td>1.0</td>\n",
       "      <td>322.0</td>\n",
       "      <td>NaN</td>\n",
       "      <td>NaN</td>\n",
       "    </tr>\n",
       "    <tr>\n",
       "      <th>4</th>\n",
       "      <td>1003689</td>\n",
       "      <td>Entire Apt: Spacious Studio/Loft by central park</td>\n",
       "      <td>92037596077</td>\n",
       "      <td>verified</td>\n",
       "      <td>Lyndon</td>\n",
       "      <td>Manhattan</td>\n",
       "      <td>East Harlem</td>\n",
       "      <td>40.79851</td>\n",
       "      <td>-73.94399</td>\n",
       "      <td>United States</td>\n",
       "      <td>...</td>\n",
       "      <td>$41</td>\n",
       "      <td>10.0</td>\n",
       "      <td>9.0</td>\n",
       "      <td>19-11-2018</td>\n",
       "      <td>0.10</td>\n",
       "      <td>3.0</td>\n",
       "      <td>1.0</td>\n",
       "      <td>289.0</td>\n",
       "      <td>Please no smoking in the house, porch or on th...</td>\n",
       "      <td>NaN</td>\n",
       "    </tr>\n",
       "  </tbody>\n",
       "</table>\n",
       "<p>5 rows × 26 columns</p>\n",
       "</div>"
      ],
      "text/plain": [
       "        id                                              NAME      host id  \\\n",
       "0  1001254                Clean & quiet apt home by the park  80014485718   \n",
       "1  1002102                             Skylit Midtown Castle  52335172823   \n",
       "2  1002403               THE VILLAGE OF HARLEM....NEW YORK !  78829239556   \n",
       "3  1002755                                               NaN  85098326012   \n",
       "4  1003689  Entire Apt: Spacious Studio/Loft by central park  92037596077   \n",
       "\n",
       "  host_identity_verified host name neighbourhood group neighbourhood  \\\n",
       "0            unconfirmed  Madaline            Brooklyn    Kensington   \n",
       "1               verified     Jenna           Manhattan       Midtown   \n",
       "2                    NaN     Elise           Manhattan        Harlem   \n",
       "3            unconfirmed     Garry            Brooklyn  Clinton Hill   \n",
       "4               verified    Lyndon           Manhattan   East Harlem   \n",
       "\n",
       "        lat      long        country  ... service fee minimum nights  \\\n",
       "0  40.64749 -73.97237  United States  ...       $193            10.0   \n",
       "1  40.75362 -73.98377  United States  ...        $28            30.0   \n",
       "2  40.80902 -73.94190  United States  ...       $124             3.0   \n",
       "3  40.68514 -73.95976  United States  ...        $74            30.0   \n",
       "4  40.79851 -73.94399  United States  ...        $41            10.0   \n",
       "\n",
       "  number of reviews last review  reviews per month review rate number  \\\n",
       "0               9.0  19-10-2021               0.21                4.0   \n",
       "1              45.0  21-05-2022               0.38                4.0   \n",
       "2               0.0         NaN                NaN                5.0   \n",
       "3             270.0  05-07-2019               4.64                4.0   \n",
       "4               9.0  19-11-2018               0.10                3.0   \n",
       "\n",
       "  calculated host listings count  availability 365  \\\n",
       "0                            6.0             286.0   \n",
       "1                            2.0             228.0   \n",
       "2                            1.0             352.0   \n",
       "3                            1.0             322.0   \n",
       "4                            1.0             289.0   \n",
       "\n",
       "                                         house_rules license  \n",
       "0  Clean up and treat the home the way you'd like...     NaN  \n",
       "1  Pet friendly but please confirm with me if the...     NaN  \n",
       "2  I encourage you to use my kitchen, cooking and...     NaN  \n",
       "3                                                NaN     NaN  \n",
       "4  Please no smoking in the house, porch or on th...     NaN  \n",
       "\n",
       "[5 rows x 26 columns]"
      ]
     },
     "execution_count": 38,
     "metadata": {},
     "output_type": "execute_result"
    }
   ],
   "source": [
    "df.head()"
   ]
  },
  {
   "cell_type": "code",
   "execution_count": 39,
   "id": "0a0a4c5c",
   "metadata": {},
   "outputs": [],
   "source": [
    "# # Check data types and identify column 25 (index 25) that had mixed types\n",
    "# print(\"Data types for each column:\")\n",
    "# print(df.dtypes)\n",
    "# print(f\"\\nColumn 25 (index 25): '{df.columns[25]}' has data type: {df.dtypes.iloc[25]}\")\n",
    "\n",
    "# # Check for mixed data in column 25\n",
    "# print(f\"\\nSample values from column 25 ('{df.columns[25]}'):\")\n",
    "# print(df.iloc[:10, 25].values)"
   ]
  },
  {
   "cell_type": "code",
   "execution_count": 40,
   "id": "da52ad5f",
   "metadata": {},
   "outputs": [
    {
     "name": "stdout",
     "output_type": "stream",
     "text": [
      "<class 'pandas.core.frame.DataFrame'>\n",
      "RangeIndex: 102599 entries, 0 to 102598\n",
      "Data columns (total 26 columns):\n",
      " #   Column                          Non-Null Count   Dtype  \n",
      "---  ------                          --------------   -----  \n",
      " 0   id                              102599 non-null  int64  \n",
      " 1   NAME                            102349 non-null  object \n",
      " 2   host id                         102599 non-null  int64  \n",
      " 3   host_identity_verified          102310 non-null  object \n",
      " 4   host name                       102193 non-null  object \n",
      " 5   neighbourhood group             102570 non-null  object \n",
      " 6   neighbourhood                   102583 non-null  object \n",
      " 7   lat                             102591 non-null  float64\n",
      " 8   long                            102591 non-null  float64\n",
      " 9   country                         102067 non-null  object \n",
      " 10  country code                    102468 non-null  object \n",
      " 11  instant_bookable                102494 non-null  object \n",
      " 12  cancellation_policy             102523 non-null  object \n",
      " 13  room type                       102599 non-null  object \n",
      " 14  Construction year               102385 non-null  float64\n",
      " 15  price                           102352 non-null  object \n",
      " 16  service fee                     102326 non-null  object \n",
      " 17  minimum nights                  102190 non-null  float64\n",
      " 18  number of reviews               102416 non-null  float64\n",
      " 19  last review                     86706 non-null   object \n",
      " 20  reviews per month               86720 non-null   float64\n",
      " 21  review rate number              102273 non-null  float64\n",
      " 22  calculated host listings count  102280 non-null  float64\n",
      " 23  availability 365                102151 non-null  float64\n",
      " 24  house_rules                     50468 non-null   object \n",
      " 25  license                         2 non-null       object \n",
      "dtypes: float64(9), int64(2), object(15)\n",
      "memory usage: 20.4+ MB\n"
     ]
    }
   ],
   "source": [
    "df.info()"
   ]
  },
  {
   "cell_type": "code",
   "execution_count": 41,
   "id": "214bf149",
   "metadata": {},
   "outputs": [
    {
     "data": {
      "application/vnd.microsoft.datawrangler.viewer.v0+json": {
       "columns": [
        {
         "name": "index",
         "rawType": "bool",
         "type": "boolean"
        },
        {
         "name": "count",
         "rawType": "int64",
         "type": "integer"
        }
       ],
       "ref": "21072e45-6748-4522-ad36-15cdde5fc4bd",
       "rows": [
        [
         "False",
         "102058"
        ],
        [
         "True",
         "541"
        ]
       ],
       "shape": {
        "columns": 1,
        "rows": 2
       }
      },
      "text/plain": [
       "False    102058\n",
       "True        541\n",
       "Name: count, dtype: int64"
      ]
     },
     "execution_count": 41,
     "metadata": {},
     "output_type": "execute_result"
    }
   ],
   "source": [
    "df.duplicated().value_counts()"
   ]
  },
  {
   "cell_type": "code",
   "execution_count": 42,
   "id": "8f2accc4",
   "metadata": {},
   "outputs": [
    {
     "name": "stdout",
     "output_type": "stream",
     "text": [
      "<class 'pandas.core.frame.DataFrame'>\n",
      "RangeIndex: 102599 entries, 0 to 102598\n",
      "Data columns (total 26 columns):\n",
      " #   Column                          Non-Null Count   Dtype  \n",
      "---  ------                          --------------   -----  \n",
      " 0   id                              102599 non-null  int64  \n",
      " 1   NAME                            102349 non-null  object \n",
      " 2   host id                         102599 non-null  int64  \n",
      " 3   host_identity_verified          102310 non-null  object \n",
      " 4   host name                       102193 non-null  object \n",
      " 5   neighbourhood group             102570 non-null  object \n",
      " 6   neighbourhood                   102583 non-null  object \n",
      " 7   lat                             102591 non-null  float64\n",
      " 8   long                            102591 non-null  float64\n",
      " 9   country                         102067 non-null  object \n",
      " 10  country code                    102468 non-null  object \n",
      " 11  instant_bookable                102494 non-null  object \n",
      " 12  cancellation_policy             102523 non-null  object \n",
      " 13  room type                       102599 non-null  object \n",
      " 14  Construction year               102385 non-null  float64\n",
      " 15  price                           102352 non-null  object \n",
      " 16  service fee                     102326 non-null  object \n",
      " 17  minimum nights                  102190 non-null  float64\n",
      " 18  number of reviews               102416 non-null  float64\n",
      " 19  last review                     86706 non-null   object \n",
      " 20  reviews per month               86720 non-null   float64\n",
      " 21  review rate number              102273 non-null  float64\n",
      " 22  calculated host listings count  102280 non-null  float64\n",
      " 23  availability 365                102151 non-null  float64\n",
      " 24  house_rules                     50468 non-null   object \n",
      " 25  license                         2 non-null       object \n",
      "dtypes: float64(9), int64(2), object(15)\n",
      "memory usage: 20.4+ MB\n"
     ]
    }
   ],
   "source": [
    "df.info()"
   ]
  },
  {
   "cell_type": "code",
   "execution_count": 43,
   "id": "aa533fdf",
   "metadata": {},
   "outputs": [
    {
     "data": {
      "application/vnd.microsoft.datawrangler.viewer.v0+json": {
       "columns": [
        {
         "name": "index",
         "rawType": "int64",
         "type": "integer"
        },
        {
         "name": "id",
         "rawType": "int64",
         "type": "integer"
        },
        {
         "name": "NAME",
         "rawType": "object",
         "type": "string"
        },
        {
         "name": "host id",
         "rawType": "int64",
         "type": "integer"
        },
        {
         "name": "host_identity_verified",
         "rawType": "object",
         "type": "string"
        },
        {
         "name": "host name",
         "rawType": "object",
         "type": "string"
        },
        {
         "name": "neighbourhood group",
         "rawType": "object",
         "type": "string"
        },
        {
         "name": "neighbourhood",
         "rawType": "object",
         "type": "string"
        },
        {
         "name": "lat",
         "rawType": "float64",
         "type": "float"
        },
        {
         "name": "long",
         "rawType": "float64",
         "type": "float"
        },
        {
         "name": "country",
         "rawType": "object",
         "type": "string"
        },
        {
         "name": "country code",
         "rawType": "object",
         "type": "string"
        },
        {
         "name": "instant_bookable",
         "rawType": "object",
         "type": "unknown"
        },
        {
         "name": "cancellation_policy",
         "rawType": "object",
         "type": "string"
        },
        {
         "name": "room type",
         "rawType": "object",
         "type": "string"
        },
        {
         "name": "Construction year",
         "rawType": "float64",
         "type": "float"
        },
        {
         "name": "price",
         "rawType": "object",
         "type": "string"
        },
        {
         "name": "service fee",
         "rawType": "object",
         "type": "string"
        },
        {
         "name": "minimum nights",
         "rawType": "float64",
         "type": "float"
        },
        {
         "name": "number of reviews",
         "rawType": "float64",
         "type": "float"
        },
        {
         "name": "last review",
         "rawType": "object",
         "type": "string"
        },
        {
         "name": "reviews per month",
         "rawType": "float64",
         "type": "float"
        },
        {
         "name": "review rate number",
         "rawType": "float64",
         "type": "float"
        },
        {
         "name": "calculated host listings count",
         "rawType": "float64",
         "type": "float"
        },
        {
         "name": "availability 365",
         "rawType": "float64",
         "type": "float"
        },
        {
         "name": "house_rules",
         "rawType": "object",
         "type": "unknown"
        },
        {
         "name": "license",
         "rawType": "object",
         "type": "unknown"
        }
       ],
       "ref": "df822648-f5e1-4ec3-9f58-3c3a1fccde91",
       "rows": [
        [
         "13",
         "1008516",
         "Lovely Room 1, Garden, Best Area, Legal rental",
         "26802410424",
         "verified",
         "Darcy",
         "brookln",
         "South Slope",
         "40.66829",
         "-73.98779",
         "United States",
         "US",
         "True",
         "moderate",
         "Private room",
         "2010.0",
         "$580 ",
         "$116 ",
         "4.0",
         "167.0",
         "24-06-2019",
         "1.34",
         "4.0",
         "3.0",
         "47.0",
         null,
         null
        ]
       ],
       "shape": {
        "columns": 26,
        "rows": 1
       }
      },
      "text/html": [
       "<div>\n",
       "<style scoped>\n",
       "    .dataframe tbody tr th:only-of-type {\n",
       "        vertical-align: middle;\n",
       "    }\n",
       "\n",
       "    .dataframe tbody tr th {\n",
       "        vertical-align: top;\n",
       "    }\n",
       "\n",
       "    .dataframe thead th {\n",
       "        text-align: right;\n",
       "    }\n",
       "</style>\n",
       "<table border=\"1\" class=\"dataframe\">\n",
       "  <thead>\n",
       "    <tr style=\"text-align: right;\">\n",
       "      <th></th>\n",
       "      <th>id</th>\n",
       "      <th>NAME</th>\n",
       "      <th>host id</th>\n",
       "      <th>host_identity_verified</th>\n",
       "      <th>host name</th>\n",
       "      <th>neighbourhood group</th>\n",
       "      <th>neighbourhood</th>\n",
       "      <th>lat</th>\n",
       "      <th>long</th>\n",
       "      <th>country</th>\n",
       "      <th>...</th>\n",
       "      <th>service fee</th>\n",
       "      <th>minimum nights</th>\n",
       "      <th>number of reviews</th>\n",
       "      <th>last review</th>\n",
       "      <th>reviews per month</th>\n",
       "      <th>review rate number</th>\n",
       "      <th>calculated host listings count</th>\n",
       "      <th>availability 365</th>\n",
       "      <th>house_rules</th>\n",
       "      <th>license</th>\n",
       "    </tr>\n",
       "  </thead>\n",
       "  <tbody>\n",
       "    <tr>\n",
       "      <th>13</th>\n",
       "      <td>1008516</td>\n",
       "      <td>Lovely Room 1, Garden, Best Area, Legal rental</td>\n",
       "      <td>26802410424</td>\n",
       "      <td>verified</td>\n",
       "      <td>Darcy</td>\n",
       "      <td>brookln</td>\n",
       "      <td>South Slope</td>\n",
       "      <td>40.66829</td>\n",
       "      <td>-73.98779</td>\n",
       "      <td>United States</td>\n",
       "      <td>...</td>\n",
       "      <td>$116</td>\n",
       "      <td>4.0</td>\n",
       "      <td>167.0</td>\n",
       "      <td>24-06-2019</td>\n",
       "      <td>1.34</td>\n",
       "      <td>4.0</td>\n",
       "      <td>3.0</td>\n",
       "      <td>47.0</td>\n",
       "      <td>NaN</td>\n",
       "      <td>NaN</td>\n",
       "    </tr>\n",
       "  </tbody>\n",
       "</table>\n",
       "<p>1 rows × 26 columns</p>\n",
       "</div>"
      ],
      "text/plain": [
       "         id                                            NAME      host id  \\\n",
       "13  1008516  Lovely Room 1, Garden, Best Area, Legal rental  26802410424   \n",
       "\n",
       "   host_identity_verified host name neighbourhood group neighbourhood  \\\n",
       "13               verified     Darcy             brookln   South Slope   \n",
       "\n",
       "         lat      long        country  ... service fee minimum nights  \\\n",
       "13  40.66829 -73.98779  United States  ...       $116             4.0   \n",
       "\n",
       "   number of reviews last review  reviews per month review rate number  \\\n",
       "13             167.0  24-06-2019               1.34                4.0   \n",
       "\n",
       "   calculated host listings count  availability 365  house_rules license  \n",
       "13                            3.0              47.0          NaN     NaN  \n",
       "\n",
       "[1 rows x 26 columns]"
      ]
     },
     "execution_count": 43,
     "metadata": {},
     "output_type": "execute_result"
    }
   ],
   "source": [
    "df[df['neighbourhood group']== 'brookln']"
   ]
  },
  {
   "cell_type": "code",
   "execution_count": 44,
   "id": "36fb592e",
   "metadata": {},
   "outputs": [
    {
     "data": {
      "application/vnd.microsoft.datawrangler.viewer.v0+json": {
       "columns": [
        {
         "name": "index",
         "rawType": "object",
         "type": "string"
        },
        {
         "name": "0",
         "rawType": "int64",
         "type": "integer"
        }
       ],
       "ref": "a7c2bcc5-efd8-4c1f-86a5-855376915e63",
       "rows": [
        [
         "id",
         "0"
        ],
        [
         "NAME",
         "250"
        ],
        [
         "host id",
         "0"
        ],
        [
         "host_identity_verified",
         "289"
        ],
        [
         "host name",
         "406"
        ],
        [
         "neighbourhood group",
         "29"
        ],
        [
         "neighbourhood",
         "16"
        ],
        [
         "lat",
         "8"
        ],
        [
         "long",
         "8"
        ],
        [
         "country",
         "532"
        ],
        [
         "country code",
         "131"
        ],
        [
         "instant_bookable",
         "105"
        ],
        [
         "cancellation_policy",
         "76"
        ],
        [
         "room type",
         "0"
        ],
        [
         "Construction year",
         "214"
        ],
        [
         "price",
         "247"
        ],
        [
         "service fee",
         "273"
        ],
        [
         "minimum nights",
         "409"
        ],
        [
         "number of reviews",
         "183"
        ],
        [
         "last review",
         "15893"
        ],
        [
         "reviews per month",
         "15879"
        ],
        [
         "review rate number",
         "326"
        ],
        [
         "calculated host listings count",
         "319"
        ],
        [
         "availability 365",
         "448"
        ],
        [
         "house_rules",
         "52131"
        ],
        [
         "license",
         "102597"
        ]
       ],
       "shape": {
        "columns": 1,
        "rows": 26
       }
      },
      "text/plain": [
       "id                                     0\n",
       "NAME                                 250\n",
       "host id                                0\n",
       "host_identity_verified               289\n",
       "host name                            406\n",
       "neighbourhood group                   29\n",
       "neighbourhood                         16\n",
       "lat                                    8\n",
       "long                                   8\n",
       "country                              532\n",
       "country code                         131\n",
       "instant_bookable                     105\n",
       "cancellation_policy                   76\n",
       "room type                              0\n",
       "Construction year                    214\n",
       "price                                247\n",
       "service fee                          273\n",
       "minimum nights                       409\n",
       "number of reviews                    183\n",
       "last review                        15893\n",
       "reviews per month                  15879\n",
       "review rate number                   326\n",
       "calculated host listings count       319\n",
       "availability 365                     448\n",
       "house_rules                        52131\n",
       "license                           102597\n",
       "dtype: int64"
      ]
     },
     "execution_count": 44,
     "metadata": {},
     "output_type": "execute_result"
    }
   ],
   "source": [
    "df.isnull().sum()"
   ]
  },
  {
   "cell_type": "code",
   "execution_count": 45,
   "id": "a8700c98",
   "metadata": {},
   "outputs": [],
   "source": [
    "df.drop_duplicates(inplace=True)"
   ]
  },
  {
   "cell_type": "code",
   "execution_count": 46,
   "id": "f62f5f61",
   "metadata": {},
   "outputs": [
    {
     "data": {
      "application/vnd.microsoft.datawrangler.viewer.v0+json": {
       "columns": [
        {
         "name": "index",
         "rawType": "bool",
         "type": "boolean"
        },
        {
         "name": "count",
         "rawType": "int64",
         "type": "integer"
        }
       ],
       "ref": "59539654-d5cf-47b8-a7ed-2e59d6590399",
       "rows": [
        [
         "False",
         "102058"
        ]
       ],
       "shape": {
        "columns": 1,
        "rows": 1
       }
      },
      "text/plain": [
       "False    102058\n",
       "Name: count, dtype: int64"
      ]
     },
     "execution_count": 46,
     "metadata": {},
     "output_type": "execute_result"
    }
   ],
   "source": [
    "df.duplicated().value_counts()"
   ]
  },
  {
   "cell_type": "code",
   "execution_count": 47,
   "id": "d63fe42f",
   "metadata": {},
   "outputs": [],
   "source": [
    "df['price']=df['price'].str.replace('$','',regex=False)\n",
    "df['service fee']=df['service fee'].str.replace('$','',regex=False)\n",
    "#remove all commas in the prices and service fee columns \n",
    "df['price']=df['price'].str.replace(',','',regex=False)\n",
    "df['service fee']=df['service fee'].str.replace(',','',regex=False)\n",
    "#rename the price and service feee columns to include a dollar sign  in the columns names \n",
    "df.rename(columns={'price':'price$','service fee':'service fee$'},inplace=True)"
   ]
  },
  {
   "cell_type": "code",
   "execution_count": 48,
   "id": "dd35bdf0",
   "metadata": {},
   "outputs": [],
   "source": [
    "df.drop(['house_rules','license'],axis=1,inplace=True)\n",
    "#here we have removed the house_rules and license columns as they have more than 70% missing values"
   ]
  },
  {
   "cell_type": "code",
   "execution_count": 49,
   "id": "10f97645",
   "metadata": {},
   "outputs": [
    {
     "name": "stdout",
     "output_type": "stream",
     "text": [
      "<class 'pandas.core.frame.DataFrame'>\n",
      "Index: 102058 entries, 0 to 102057\n",
      "Data columns (total 24 columns):\n",
      " #   Column                          Non-Null Count   Dtype  \n",
      "---  ------                          --------------   -----  \n",
      " 0   id                              102058 non-null  int64  \n",
      " 1   NAME                            101808 non-null  object \n",
      " 2   host id                         102058 non-null  int64  \n",
      " 3   host_identity_verified          101769 non-null  object \n",
      " 4   host name                       101654 non-null  object \n",
      " 5   neighbourhood group             102029 non-null  object \n",
      " 6   neighbourhood                   102042 non-null  object \n",
      " 7   lat                             102050 non-null  float64\n",
      " 8   long                            102050 non-null  float64\n",
      " 9   country                         101526 non-null  object \n",
      " 10  country code                    101927 non-null  object \n",
      " 11  instant_bookable                101953 non-null  object \n",
      " 12  cancellation_policy             101982 non-null  object \n",
      " 13  room type                       102058 non-null  object \n",
      " 14  Construction year               101844 non-null  float64\n",
      " 15  price$                          101811 non-null  object \n",
      " 16  service fee$                    101785 non-null  object \n",
      " 17  minimum nights                  101658 non-null  float64\n",
      " 18  number of reviews               101875 non-null  float64\n",
      " 19  last review                     86226 non-null   object \n",
      " 20  reviews per month               86240 non-null   float64\n",
      " 21  review rate number              101739 non-null  float64\n",
      " 22  calculated host listings count  101739 non-null  float64\n",
      " 23  availability 365                101610 non-null  float64\n",
      "dtypes: float64(9), int64(2), object(13)\n",
      "memory usage: 19.5+ MB\n"
     ]
    }
   ],
   "source": [
    "df.info()"
   ]
  },
  {
   "cell_type": "code",
   "execution_count": 50,
   "id": "6cbf8b8a",
   "metadata": {},
   "outputs": [],
   "source": [
    "df.dropna(inplace=True)# the reason we are droping the na instead of replacing them cause we have huge number of the rows and only few missing values in its so its okay to drop them insteadf of the replacing them with mean or median\n"
   ]
  },
  {
   "cell_type": "code",
   "execution_count": 51,
   "id": "e82d084e",
   "metadata": {},
   "outputs": [],
   "source": [
    "# comverting all  datatypes which are mismatched to their correct datatypes\n",
    "df['price$']=df['price$'].astype(float)\n",
    "df['service fee$']=df['service fee$'].astype(float)\n",
    "df['host id']=df['host id'].astype(str)\n",
    "df['id']=df['id'].astype(str)\n",
    "df['last review']=pd.to_datetime(df['last review'],dayfirst=True)\n",
    "df['Construction year']=df['Construction year'].astype(int)"
   ]
  },
  {
   "cell_type": "code",
   "execution_count": 52,
   "id": "f35f86cd",
   "metadata": {},
   "outputs": [],
   "source": [
    "#correcting the spelling of brookln to brooklyn\n",
    "df.loc[df['neighbourhood group']=='brookln','neighbourhood group']='Brooklyn'\n"
   ]
  },
  {
   "cell_type": "code",
   "execution_count": 53,
   "id": "3b89234b",
   "metadata": {},
   "outputs": [],
   "source": [
    "#get rid of outliers in the 'availablility 365' column data \n",
    "df=df.drop(df[df['availability 365']>500].index)"
   ]
  },
  {
   "cell_type": "code",
   "execution_count": 54,
   "id": "9a1b6579",
   "metadata": {},
   "outputs": [],
   "source": [
    "df=df.drop(df[df['availability 365']>500].index)"
   ]
  },
  {
   "cell_type": "code",
   "execution_count": 55,
   "id": "1ac4062e",
   "metadata": {},
   "outputs": [
    {
     "data": {
      "application/vnd.microsoft.datawrangler.viewer.v0+json": {
       "columns": [
        {
         "name": "index",
         "rawType": "bool",
         "type": "boolean"
        },
        {
         "name": "count",
         "rawType": "int64",
         "type": "integer"
        }
       ],
       "ref": "22dc4008-e1bf-44f6-ad48-8fa5afc1a35f",
       "rows": [
        [
         "False",
         "83411"
        ]
       ],
       "shape": {
        "columns": 1,
        "rows": 1
       }
      },
      "text/plain": [
       "False    83411\n",
       "Name: count, dtype: int64"
      ]
     },
     "execution_count": 55,
     "metadata": {},
     "output_type": "execute_result"
    }
   ],
   "source": [
    "df.duplicated().value_counts()"
   ]
  },
  {
   "cell_type": "code",
   "execution_count": 56,
   "id": "4563a97f",
   "metadata": {},
   "outputs": [
    {
     "name": "stdout",
     "output_type": "stream",
     "text": [
      "<class 'pandas.core.frame.DataFrame'>\n",
      "Index: 83411 entries, 0 to 102040\n",
      "Data columns (total 24 columns):\n",
      " #   Column                          Non-Null Count  Dtype         \n",
      "---  ------                          --------------  -----         \n",
      " 0   id                              83411 non-null  object        \n",
      " 1   NAME                            83411 non-null  object        \n",
      " 2   host id                         83411 non-null  object        \n",
      " 3   host_identity_verified          83411 non-null  object        \n",
      " 4   host name                       83411 non-null  object        \n",
      " 5   neighbourhood group             83411 non-null  object        \n",
      " 6   neighbourhood                   83411 non-null  object        \n",
      " 7   lat                             83411 non-null  float64       \n",
      " 8   long                            83411 non-null  float64       \n",
      " 9   country                         83411 non-null  object        \n",
      " 10  country code                    83411 non-null  object        \n",
      " 11  instant_bookable                83411 non-null  object        \n",
      " 12  cancellation_policy             83411 non-null  object        \n",
      " 13  room type                       83411 non-null  object        \n",
      " 14  Construction year               83411 non-null  int32         \n",
      " 15  price$                          83411 non-null  float64       \n",
      " 16  service fee$                    83411 non-null  float64       \n",
      " 17  minimum nights                  83411 non-null  float64       \n",
      " 18  number of reviews               83411 non-null  float64       \n",
      " 19  last review                     83411 non-null  datetime64[ns]\n",
      " 20  reviews per month               83411 non-null  float64       \n",
      " 21  review rate number              83411 non-null  float64       \n",
      " 22  calculated host listings count  83411 non-null  float64       \n",
      " 23  availability 365                83411 non-null  float64       \n",
      "dtypes: datetime64[ns](1), float64(10), int32(1), object(12)\n",
      "memory usage: 15.6+ MB\n"
     ]
    }
   ],
   "source": [
    "df.info()"
   ]
  },
  {
   "cell_type": "markdown",
   "id": "7a94f169",
   "metadata": {},
   "source": [
    "# exploratiory data analysis( EDA)"
   ]
  },
  {
   "cell_type": "code",
   "execution_count": 57,
   "id": "391c7d3c",
   "metadata": {},
   "outputs": [
    {
     "data": {
      "application/vnd.microsoft.datawrangler.viewer.v0+json": {
       "columns": [
        {
         "name": "index",
         "rawType": "object",
         "type": "string"
        },
        {
         "name": "lat",
         "rawType": "float64",
         "type": "float"
        },
        {
         "name": "long",
         "rawType": "float64",
         "type": "float"
        },
        {
         "name": "Construction year",
         "rawType": "float64",
         "type": "float"
        },
        {
         "name": "price$",
         "rawType": "float64",
         "type": "float"
        },
        {
         "name": "service fee$",
         "rawType": "float64",
         "type": "float"
        },
        {
         "name": "minimum nights",
         "rawType": "float64",
         "type": "float"
        },
        {
         "name": "number of reviews",
         "rawType": "float64",
         "type": "float"
        },
        {
         "name": "last review",
         "rawType": "object",
         "type": "unknown"
        },
        {
         "name": "reviews per month",
         "rawType": "float64",
         "type": "float"
        },
        {
         "name": "review rate number",
         "rawType": "float64",
         "type": "float"
        },
        {
         "name": "calculated host listings count",
         "rawType": "float64",
         "type": "float"
        },
        {
         "name": "availability 365",
         "rawType": "float64",
         "type": "float"
        }
       ],
       "ref": "836ea3ac-f8ae-4955-9574-9c561d049c5f",
       "rows": [
        [
         "count",
         "83411.0",
         "83411.0",
         "83411.0",
         "83411.0",
         "83411.0",
         "83411.0",
         "83411.0",
         "83411",
         "83411.0",
         "83411.0",
         "83411.0",
         "83411.0"
        ],
        [
         "mean",
         "40.727353025494835",
         "-73.94849973556113",
         "2012.4885087098824",
         "626.2127297358861",
         "125.24370886333936",
         "7.405366198702809",
         "32.276642169498025",
         "2019-06-08 22:01:01.027922176",
         "1.377583532148038",
         "3.278776180599681",
         "7.032681540803971",
         "141.7426118857225"
        ],
        [
         "min",
         "40.50456",
         "-74.24984",
         "2003.0",
         "50.0",
         "10.0",
         "-365.0",
         "1.0",
         "2012-07-11 00:00:00",
         "0.01",
         "1.0",
         "1.0",
         "-10.0"
        ],
        [
         "25%",
         "40.68765",
         "-73.98211",
         "2007.0",
         "340.0",
         "68.0",
         "2.0",
         "3.0",
         "2018-10-26 00:00:00",
         "0.22",
         "2.0",
         "1.0",
         "6.0"
        ],
        [
         "50%",
         "40.72132",
         "-73.95372",
         "2012.0",
         "625.0",
         "125.0",
         "3.0",
         "11.0",
         "2019-06-13 00:00:00",
         "0.74",
         "3.0",
         "1.0",
         "101.0"
        ],
        [
         "75%",
         "40.762595000000005",
         "-73.930815",
         "2017.0",
         "914.0",
         "183.0",
         "5.0",
         "38.0",
         "2019-07-05 00:00:00",
         "2.01",
         "4.0",
         "2.0",
         "266.0"
        ],
        [
         "max",
         "40.91697",
         "-73.70522",
         "2022.0",
         "1200.0",
         "240.0",
         "5645.0",
         "1024.0",
         "2022-05-21 00:00:00",
         "90.0",
         "5.0",
         "332.0",
         "426.0"
        ],
        [
         "std",
         "0.05632405241972937",
         "0.05034725036867449",
         "5.760870091653274",
         "331.7871788336726",
         "66.36097872618379",
         "28.10222057204875",
         "51.957776781350546",
         null,
         "1.7510410815172923",
         "1.2835994672347306",
         "29.551590044618667",
         "133.36839927840066"
        ]
       ],
       "shape": {
        "columns": 12,
        "rows": 8
       }
      },
      "text/html": [
       "<div>\n",
       "<style scoped>\n",
       "    .dataframe tbody tr th:only-of-type {\n",
       "        vertical-align: middle;\n",
       "    }\n",
       "\n",
       "    .dataframe tbody tr th {\n",
       "        vertical-align: top;\n",
       "    }\n",
       "\n",
       "    .dataframe thead th {\n",
       "        text-align: right;\n",
       "    }\n",
       "</style>\n",
       "<table border=\"1\" class=\"dataframe\">\n",
       "  <thead>\n",
       "    <tr style=\"text-align: right;\">\n",
       "      <th></th>\n",
       "      <th>lat</th>\n",
       "      <th>long</th>\n",
       "      <th>Construction year</th>\n",
       "      <th>price$</th>\n",
       "      <th>service fee$</th>\n",
       "      <th>minimum nights</th>\n",
       "      <th>number of reviews</th>\n",
       "      <th>last review</th>\n",
       "      <th>reviews per month</th>\n",
       "      <th>review rate number</th>\n",
       "      <th>calculated host listings count</th>\n",
       "      <th>availability 365</th>\n",
       "    </tr>\n",
       "  </thead>\n",
       "  <tbody>\n",
       "    <tr>\n",
       "      <th>count</th>\n",
       "      <td>83411.000000</td>\n",
       "      <td>83411.000000</td>\n",
       "      <td>83411.000000</td>\n",
       "      <td>83411.000000</td>\n",
       "      <td>83411.000000</td>\n",
       "      <td>83411.000000</td>\n",
       "      <td>83411.000000</td>\n",
       "      <td>83411</td>\n",
       "      <td>83411.000000</td>\n",
       "      <td>83411.000000</td>\n",
       "      <td>83411.000000</td>\n",
       "      <td>83411.000000</td>\n",
       "    </tr>\n",
       "    <tr>\n",
       "      <th>mean</th>\n",
       "      <td>40.727353</td>\n",
       "      <td>-73.948500</td>\n",
       "      <td>2012.488509</td>\n",
       "      <td>626.212730</td>\n",
       "      <td>125.243709</td>\n",
       "      <td>7.405366</td>\n",
       "      <td>32.276642</td>\n",
       "      <td>2019-06-08 22:01:01.027922176</td>\n",
       "      <td>1.377584</td>\n",
       "      <td>3.278776</td>\n",
       "      <td>7.032682</td>\n",
       "      <td>141.742612</td>\n",
       "    </tr>\n",
       "    <tr>\n",
       "      <th>min</th>\n",
       "      <td>40.504560</td>\n",
       "      <td>-74.249840</td>\n",
       "      <td>2003.000000</td>\n",
       "      <td>50.000000</td>\n",
       "      <td>10.000000</td>\n",
       "      <td>-365.000000</td>\n",
       "      <td>1.000000</td>\n",
       "      <td>2012-07-11 00:00:00</td>\n",
       "      <td>0.010000</td>\n",
       "      <td>1.000000</td>\n",
       "      <td>1.000000</td>\n",
       "      <td>-10.000000</td>\n",
       "    </tr>\n",
       "    <tr>\n",
       "      <th>25%</th>\n",
       "      <td>40.687650</td>\n",
       "      <td>-73.982110</td>\n",
       "      <td>2007.000000</td>\n",
       "      <td>340.000000</td>\n",
       "      <td>68.000000</td>\n",
       "      <td>2.000000</td>\n",
       "      <td>3.000000</td>\n",
       "      <td>2018-10-26 00:00:00</td>\n",
       "      <td>0.220000</td>\n",
       "      <td>2.000000</td>\n",
       "      <td>1.000000</td>\n",
       "      <td>6.000000</td>\n",
       "    </tr>\n",
       "    <tr>\n",
       "      <th>50%</th>\n",
       "      <td>40.721320</td>\n",
       "      <td>-73.953720</td>\n",
       "      <td>2012.000000</td>\n",
       "      <td>625.000000</td>\n",
       "      <td>125.000000</td>\n",
       "      <td>3.000000</td>\n",
       "      <td>11.000000</td>\n",
       "      <td>2019-06-13 00:00:00</td>\n",
       "      <td>0.740000</td>\n",
       "      <td>3.000000</td>\n",
       "      <td>1.000000</td>\n",
       "      <td>101.000000</td>\n",
       "    </tr>\n",
       "    <tr>\n",
       "      <th>75%</th>\n",
       "      <td>40.762595</td>\n",
       "      <td>-73.930815</td>\n",
       "      <td>2017.000000</td>\n",
       "      <td>914.000000</td>\n",
       "      <td>183.000000</td>\n",
       "      <td>5.000000</td>\n",
       "      <td>38.000000</td>\n",
       "      <td>2019-07-05 00:00:00</td>\n",
       "      <td>2.010000</td>\n",
       "      <td>4.000000</td>\n",
       "      <td>2.000000</td>\n",
       "      <td>266.000000</td>\n",
       "    </tr>\n",
       "    <tr>\n",
       "      <th>max</th>\n",
       "      <td>40.916970</td>\n",
       "      <td>-73.705220</td>\n",
       "      <td>2022.000000</td>\n",
       "      <td>1200.000000</td>\n",
       "      <td>240.000000</td>\n",
       "      <td>5645.000000</td>\n",
       "      <td>1024.000000</td>\n",
       "      <td>2022-05-21 00:00:00</td>\n",
       "      <td>90.000000</td>\n",
       "      <td>5.000000</td>\n",
       "      <td>332.000000</td>\n",
       "      <td>426.000000</td>\n",
       "    </tr>\n",
       "    <tr>\n",
       "      <th>std</th>\n",
       "      <td>0.056324</td>\n",
       "      <td>0.050347</td>\n",
       "      <td>5.760870</td>\n",
       "      <td>331.787179</td>\n",
       "      <td>66.360979</td>\n",
       "      <td>28.102221</td>\n",
       "      <td>51.957777</td>\n",
       "      <td>NaN</td>\n",
       "      <td>1.751041</td>\n",
       "      <td>1.283599</td>\n",
       "      <td>29.551590</td>\n",
       "      <td>133.368399</td>\n",
       "    </tr>\n",
       "  </tbody>\n",
       "</table>\n",
       "</div>"
      ],
      "text/plain": [
       "                lat          long  Construction year        price$  \\\n",
       "count  83411.000000  83411.000000       83411.000000  83411.000000   \n",
       "mean      40.727353    -73.948500        2012.488509    626.212730   \n",
       "min       40.504560    -74.249840        2003.000000     50.000000   \n",
       "25%       40.687650    -73.982110        2007.000000    340.000000   \n",
       "50%       40.721320    -73.953720        2012.000000    625.000000   \n",
       "75%       40.762595    -73.930815        2017.000000    914.000000   \n",
       "max       40.916970    -73.705220        2022.000000   1200.000000   \n",
       "std        0.056324      0.050347           5.760870    331.787179   \n",
       "\n",
       "       service fee$  minimum nights  number of reviews  \\\n",
       "count  83411.000000    83411.000000       83411.000000   \n",
       "mean     125.243709        7.405366          32.276642   \n",
       "min       10.000000     -365.000000           1.000000   \n",
       "25%       68.000000        2.000000           3.000000   \n",
       "50%      125.000000        3.000000          11.000000   \n",
       "75%      183.000000        5.000000          38.000000   \n",
       "max      240.000000     5645.000000        1024.000000   \n",
       "std       66.360979       28.102221          51.957777   \n",
       "\n",
       "                         last review  reviews per month  review rate number  \\\n",
       "count                          83411       83411.000000        83411.000000   \n",
       "mean   2019-06-08 22:01:01.027922176           1.377584            3.278776   \n",
       "min              2012-07-11 00:00:00           0.010000            1.000000   \n",
       "25%              2018-10-26 00:00:00           0.220000            2.000000   \n",
       "50%              2019-06-13 00:00:00           0.740000            3.000000   \n",
       "75%              2019-07-05 00:00:00           2.010000            4.000000   \n",
       "max              2022-05-21 00:00:00          90.000000            5.000000   \n",
       "std                              NaN           1.751041            1.283599   \n",
       "\n",
       "       calculated host listings count  availability 365  \n",
       "count                    83411.000000      83411.000000  \n",
       "mean                         7.032682        141.742612  \n",
       "min                          1.000000        -10.000000  \n",
       "25%                          1.000000          6.000000  \n",
       "50%                          1.000000        101.000000  \n",
       "75%                          2.000000        266.000000  \n",
       "max                        332.000000        426.000000  \n",
       "std                         29.551590        133.368399  "
      ]
     },
     "execution_count": 57,
     "metadata": {},
     "output_type": "execute_result"
    }
   ],
   "source": [
    "df.describe()"
   ]
  },
  {
   "cell_type": "code",
   "execution_count": 58,
   "id": "a022793f",
   "metadata": {},
   "outputs": [
    {
     "name": "stdout",
     "output_type": "stream",
     "text": [
      "                 count\n",
      "room type             \n",
      "Entire home/apt  44163\n",
      "Private room     37494\n",
      "Shared room       1646\n",
      "Hotel room         108\n"
     ]
    }
   ],
   "source": [
    "# we are checking out the what are different property types  using the room type column\n",
    "property_types=df['room type'].value_counts().to_frame()\n",
    "print(property_types)"
   ]
  },
  {
   "cell_type": "code",
   "execution_count": 59,
   "id": "7d22f5ed",
   "metadata": {},
   "outputs": [
    {
     "data": {
      "text/plain": [
       "Text(0.5, 1.0, 'Property types and their count in the Dataset')"
      ]
     },
     "execution_count": 59,
     "metadata": {},
     "output_type": "execute_result"
    },
    {
     "data": {
      "image/png": "[encoded data removed]",
      "text/plain": [
       "<Figure size 640x480 with 1 Axes>"
      ]
     },
     "metadata": {},
     "output_type": "display_data"
    }
   ],
   "source": [
    "#room types count plotted on bartchat \n",
    "room_type_bar=plt.bar(property_types.index,property_types.loc[:,\"count\"]);\n",
    "plt.bar_label(room_type_bar,labels=property_types.loc[:,\"count\"],padding=4);\n",
    "plt.ylim([0,50000]);\n",
    "plt.xlabel(['Room type']);\n",
    "plt.ylabel('Room type count');\n",
    "plt.title('Property types and their count in the Dataset')"
   ]
  },
  {
   "cell_type": "markdown",
   "id": "7ff6299c",
   "metadata": {},
   "source": [
    "the Airbnb open dataset reavelas four distinct property or room types. These categories comprise:\n",
    "- entire hopme /apt\n",
    "- Private room\n",
    "- shared room\n",
    "- hotel room \n",
    "\n",
    "\n",
    "\n",
    "\n",
    "Notably, the barchart  illustrates that entire home/apt dominates the datset with 44,163 occurrences, followed byu private room with 37,494 occurrences. shared room and hotel room trail behind with 1,646 and 108 occurrences, respectively.\n",
    "\n"
   ]
  },
  {
   "cell_type": "markdown",
   "id": "b38e02b1",
   "metadata": {},
   "source": [
    "### Which neighbourhood group has the heighest number of listing ? \n",
    "|"
   ]
  },
  {
   "cell_type": "code",
   "execution_count": 60,
   "id": "2f422711",
   "metadata": {},
   "outputs": [
    {
     "data": {
      "application/vnd.microsoft.datawrangler.viewer.v0+json": {
       "columns": [
        {
         "name": "index",
         "rawType": "int64",
         "type": "integer"
        },
        {
         "name": "id",
         "rawType": "object",
         "type": "string"
        },
        {
         "name": "NAME",
         "rawType": "object",
         "type": "string"
        },
        {
         "name": "host id",
         "rawType": "object",
         "type": "string"
        },
        {
         "name": "host_identity_verified",
         "rawType": "object",
         "type": "string"
        },
        {
         "name": "host name",
         "rawType": "object",
         "type": "string"
        },
        {
         "name": "neighbourhood group",
         "rawType": "object",
         "type": "string"
        },
        {
         "name": "neighbourhood",
         "rawType": "object",
         "type": "string"
        },
        {
         "name": "lat",
         "rawType": "float64",
         "type": "float"
        },
        {
         "name": "long",
         "rawType": "float64",
         "type": "float"
        },
        {
         "name": "country",
         "rawType": "object",
         "type": "string"
        },
        {
         "name": "country code",
         "rawType": "object",
         "type": "string"
        },
        {
         "name": "instant_bookable",
         "rawType": "object",
         "type": "string"
        },
        {
         "name": "cancellation_policy",
         "rawType": "object",
         "type": "string"
        },
        {
         "name": "room type",
         "rawType": "object",
         "type": "string"
        },
        {
         "name": "Construction year",
         "rawType": "int32",
         "type": "integer"
        },
        {
         "name": "price$",
         "rawType": "float64",
         "type": "float"
        },
        {
         "name": "service fee$",
         "rawType": "float64",
         "type": "float"
        },
        {
         "name": "minimum nights",
         "rawType": "float64",
         "type": "float"
        },
        {
         "name": "number of reviews",
         "rawType": "float64",
         "type": "float"
        },
        {
         "name": "last review",
         "rawType": "datetime64[ns]",
         "type": "datetime"
        },
        {
         "name": "reviews per month",
         "rawType": "float64",
         "type": "float"
        },
        {
         "name": "review rate number",
         "rawType": "float64",
         "type": "float"
        },
        {
         "name": "calculated host listings count",
         "rawType": "float64",
         "type": "float"
        },
        {
         "name": "availability 365",
         "rawType": "float64",
         "type": "float"
        }
       ],
       "ref": "5ecf2b11-2fe7-4fd6-95b1-3a946f363195",
       "rows": [],
       "shape": {
        "columns": 24,
        "rows": 0
       }
      },
      "text/html": [
       "<div>\n",
       "<style scoped>\n",
       "    .dataframe tbody tr th:only-of-type {\n",
       "        vertical-align: middle;\n",
       "    }\n",
       "\n",
       "    .dataframe tbody tr th {\n",
       "        vertical-align: top;\n",
       "    }\n",
       "\n",
       "    .dataframe thead th {\n",
       "        text-align: right;\n",
       "    }\n",
       "</style>\n",
       "<table border=\"1\" class=\"dataframe\">\n",
       "  <thead>\n",
       "    <tr style=\"text-align: right;\">\n",
       "      <th></th>\n",
       "      <th>id</th>\n",
       "      <th>NAME</th>\n",
       "      <th>host id</th>\n",
       "      <th>host_identity_verified</th>\n",
       "      <th>host name</th>\n",
       "      <th>neighbourhood group</th>\n",
       "      <th>neighbourhood</th>\n",
       "      <th>lat</th>\n",
       "      <th>long</th>\n",
       "      <th>country</th>\n",
       "      <th>...</th>\n",
       "      <th>Construction year</th>\n",
       "      <th>price$</th>\n",
       "      <th>service fee$</th>\n",
       "      <th>minimum nights</th>\n",
       "      <th>number of reviews</th>\n",
       "      <th>last review</th>\n",
       "      <th>reviews per month</th>\n",
       "      <th>review rate number</th>\n",
       "      <th>calculated host listings count</th>\n",
       "      <th>availability 365</th>\n",
       "    </tr>\n",
       "  </thead>\n",
       "  <tbody>\n",
       "  </tbody>\n",
       "</table>\n",
       "<p>0 rows × 24 columns</p>\n",
       "</div>"
      ],
      "text/plain": [
       "Empty DataFrame\n",
       "Columns: [id, NAME, host id, host_identity_verified, host name, neighbourhood group, neighbourhood, lat, long, country, country code, instant_bookable, cancellation_policy, room type, Construction year, price$, service fee$, minimum nights, number of reviews, last review, reviews per month, review rate number, calculated host listings count, availability 365]\n",
       "Index: []\n",
       "\n",
       "[0 rows x 24 columns]"
      ]
     },
     "execution_count": 60,
     "metadata": {},
     "output_type": "execute_result"
    }
   ],
   "source": [
    "df.loc[df['neighbourhood group'].str.contains('brookln', na=False), :].head(10)\n"
   ]
  },
  {
   "cell_type": "code",
   "execution_count": 61,
   "id": "6d564808",
   "metadata": {},
   "outputs": [
    {
     "data": {
      "application/vnd.microsoft.datawrangler.viewer.v0+json": {
       "columns": [
        {
         "name": "neighbourhood group",
         "rawType": "object",
         "type": "string"
        },
        {
         "name": "count",
         "rawType": "int64",
         "type": "integer"
        }
       ],
       "ref": "ac4dfc20-1222-41e6-9718-a15125f494c1",
       "rows": [
        [
         "Brooklyn",
         "34636"
        ],
        [
         "Manhattan",
         "34566"
        ],
        [
         "Queens",
         "11126"
        ],
        [
         "Bronx",
         "2267"
        ],
        [
         "Staten Island",
         "816"
        ]
       ],
       "shape": {
        "columns": 1,
        "rows": 5
       }
      },
      "text/html": [
       "<div>\n",
       "<style scoped>\n",
       "    .dataframe tbody tr th:only-of-type {\n",
       "        vertical-align: middle;\n",
       "    }\n",
       "\n",
       "    .dataframe tbody tr th {\n",
       "        vertical-align: top;\n",
       "    }\n",
       "\n",
       "    .dataframe thead th {\n",
       "        text-align: right;\n",
       "    }\n",
       "</style>\n",
       "<table border=\"1\" class=\"dataframe\">\n",
       "  <thead>\n",
       "    <tr style=\"text-align: right;\">\n",
       "      <th></th>\n",
       "      <th>count</th>\n",
       "    </tr>\n",
       "    <tr>\n",
       "      <th>neighbourhood group</th>\n",
       "      <th></th>\n",
       "    </tr>\n",
       "  </thead>\n",
       "  <tbody>\n",
       "    <tr>\n",
       "      <th>Brooklyn</th>\n",
       "      <td>34636</td>\n",
       "    </tr>\n",
       "    <tr>\n",
       "      <th>Manhattan</th>\n",
       "      <td>34566</td>\n",
       "    </tr>\n",
       "    <tr>\n",
       "      <th>Queens</th>\n",
       "      <td>11126</td>\n",
       "    </tr>\n",
       "    <tr>\n",
       "      <th>Bronx</th>\n",
       "      <td>2267</td>\n",
       "    </tr>\n",
       "    <tr>\n",
       "      <th>Staten Island</th>\n",
       "      <td>816</td>\n",
       "    </tr>\n",
       "  </tbody>\n",
       "</table>\n",
       "</div>"
      ],
      "text/plain": [
       "                     count\n",
       "neighbourhood group       \n",
       "Brooklyn             34636\n",
       "Manhattan            34566\n",
       "Queens               11126\n",
       "Bronx                 2267\n",
       "Staten Island          816"
      ]
     },
     "execution_count": 61,
     "metadata": {},
     "output_type": "execute_result"
    }
   ],
   "source": [
    "# df.loc[df['neighbourhood group']=='brookln','neighhourhood group']='Brooklyn'\n",
    "hood_group = df['neighbourhood group'].value_counts().to_frame()\n",
    "hood_group"
   ]
  },
  {
   "cell_type": "code",
   "execution_count": 62,
   "id": "dbdd920d",
   "metadata": {},
   "outputs": [
    {
     "data": {
      "image/png": "[encoded data removed]",
      "text/plain": [
       "<Figure size 640x480 with 1 Axes>"
      ]
     },
     "metadata": {},
     "output_type": "display_data"
    }
   ],
   "source": [
    "# barchart to depict the highest number of listed neighbourhood group \n",
    "hood_group_bar = plt.bar(hood_group.index,hood_group.loc[:,\"count\"]);\n",
    "plt.bar_label(hood_group_bar,labels=hood_group.loc[:,\"count\"],padding=4);\n",
    "plt.ylim([0,40000]);\n",
    "plt.xlabel('Neighborhood Groups');\n",
    "plt.ylabel('Number of listing in corresponding neighbourhood group ')\n",
    "plt.title('Which Neighbourhood groups has the heighest number of the listing');\n",
    "\n"
   ]
  },
  {
   "cell_type": "markdown",
   "id": "c5dca78f",
   "metadata": {},
   "source": [
    "The dataset contains five different neighborhood groups , namely Brooklyn, Manhattan,queens,bronx and states island. according to the bar chart , brooklyn has the heighest number of listing with 34636, followed by thge Manhattan with 34566\n",
    "\n",
    "\n"
   ]
  },
  {
   "cell_type": "markdown",
   "id": "4172dff0",
   "metadata": {},
   "source": [
    "### which Neighbourhood group has the heighest averaghe prices for AIRBNB listing ?\n"
   ]
  },
  {
   "cell_type": "code",
   "execution_count": null,
   "id": "188eb556",
   "metadata": {},
   "outputs": [],
   "source": []
  },
  {
   "cell_type": "code",
   "execution_count": 75,
   "id": "9c966edb",
   "metadata": {},
   "outputs": [
    {
     "data": {
      "image/png": "[encoded data removed]",
      "text/plain": [
       "<Figure size 640x480 with 1 Axes>"
      ]
     },
     "metadata": {},
     "output_type": "display_data"
    }
   ],
   "source": [
    "# barchart to depict the highest average price for aribnb listing in different neighbourhood group\n",
    "avg_price =df.groupby('neighbourhood group')['price$'].mean().sort_values(ascending = False).to_frame()\n",
    "avg_price_bar=plt.bar(avg_price.index,avg_price.loc[:,\"price$\"]);\n",
    "plt.bar_label(avg_price_bar,labels=round(avg_price.loc[:,\"price$\"],2),label_type='center',padding=4);\n",
    "plt.ylim([0,700]);\n",
    "plt.xlabel(\"Neighbourhood Groups \");\n",
    "\n",
    "plt.ylabel('Average Price per listing ($)');\n",
    "plt.xticks(rotation = 45);\n",
    "plt.title(\"Avgerage Price per Listings ($) in each Neighbourhood group\");"
   ]
  },
  {
   "cell_type": "markdown",
   "id": "42830776",
   "metadata": {},
   "source": [
    "Among the five identified neighborhood groups in the dataset, Queens boasts the highest average listing price at 630.46 USD, closely trailed by the Bronx with an average listing price of 630.20 USD. Conversely,\n",
    "Staten Island records the lowest average listing price at 622.13 USD."
   ]
  },
  {
   "cell_type": "markdown",
   "id": "b9900b48",
   "metadata": {},
   "source": [
    "### is there relationship between the construction year of property and price ?\n",
    "\n"
   ]
  },
  {
   "cell_type": "code",
   "execution_count": 80,
   "id": "7a0d4d10",
   "metadata": {},
   "outputs": [
    {
     "data": {
      "text/plain": [
       "'\\nThe line plot decpicting the construction year of the property versus the average price per property reveals a noticeable downward trend in prices as the construction yuears progress. the pattern demostrates decreasing lows and highs, suggesting an overall decline in the property priceds as the time progresses '"
      ]
     },
     "execution_count": 80,
     "metadata": {},
     "output_type": "execute_result"
    },
    {
     "data": {
      "image/png": "[encoded data removed]",
      "text/plain": [
       "<Figure size 640x480 with 1 Axes>"
      ]
     },
     "metadata": {},
     "output_type": "display_data"
    }
   ],
   "source": [
    "# line grapph to show the trend of the price with respect to the construction year of the property\n",
    "df.groupby(df['Construction year'])['price$'].mean().to_frame().plot();\n",
    "plt.xlabel('construction year');\n",
    "plt.ylabel('Average Price per listing ($)');\n",
    "plt.title('Trend of the price with respect to the construction year of the property');\n",
    "\n",
    "'''\n",
    "The line plot decpicting the construction year of the property versus the average price per property reveals a noticeable downward trend in prices as the construction yuears progress. the pattern demostrates decreasing lows and highs, suggesting an overall decline in the property priceds as the time progresses '''"
   ]
  },
  {
   "cell_type": "markdown",
   "id": "49006f5b",
   "metadata": {},
   "source": [
    "The line plot decpicting the construction year of the property versus the average price per property reveals a noticeable downward trend in prices as the construction yuears progress. the pattern demostrates decreasing lows and highs, suggesting an overall decline in the property priceds as the time progresses '''\n"
   ]
  },
  {
   "cell_type": "markdown",
   "id": "19b3552d",
   "metadata": {},
   "source": [
    "### who are the top 10 hosts by calcuilated host listing count ?\n",
    "\n",
    "From the numerous hosts inm the data set , we will see the10 hosts with highest calculated host counts.\n",
    "\n"
   ]
  },
  {
   "cell_type": "code",
   "execution_count": 90,
   "id": "5445f093",
   "metadata": {},
   "outputs": [
    {
     "data": {
      "text/plain": [
       "Index(['id', 'NAME', 'host id', 'host_identity_verified', 'host name',\n",
       "       'neighbourhood group', 'neighbourhood', 'lat', 'long', 'country',\n",
       "       'country code', 'instant_bookable', 'cancellation_policy', 'room type',\n",
       "       'Construction year', 'price$', 'service fee$', 'minimum nights',\n",
       "       'number of reviews', 'last review', 'reviews per month',\n",
       "       'review rate number', 'calculated host listings count',\n",
       "       'availability 365'],\n",
       "      dtype='object')"
      ]
     },
     "execution_count": 90,
     "metadata": {},
     "output_type": "execute_result"
    }
   ],
   "source": [
    "df.columns"
   ]
  },
  {
   "cell_type": "code",
   "execution_count": 91,
   "id": "1236fcf4",
   "metadata": {},
   "outputs": [
    {
     "data": {
      "image/png": "[encoded data removed]",
      "text/plain": [
       "<Figure size 640x480 with 1 Axes>"
      ]
     },
     "metadata": {},
     "output_type": "display_data"
    }
   ],
   "source": [
    "# bar chart to depict the top[ 10 hosts by calculated host listing count]\n",
    "hosts=df.groupby('host name')['calculated host listings count'].sum().sort_values(ascending = False).nlargest(10).to_frame()\n",
    "host_bar=plt.bar(hosts.index,hosts.loc[:,'calculated host listings count']);\n",
    "plt.bar_label(host_bar,labels=hosts.loc[:,'calculated host listings count'],label_type='edge',padding=3);\n",
    "plt.xlabel('Host Names');\n",
    "plt.ylabel('Calculated Host Listings Count');\n",
    "plt.xticks(rotation = 80);\n",
    "plt.ylim([0,120000]);\n",
    "plt.title('top 10 hosts by calculated host listing count');"
   ]
  },
  {
   "cell_type": "markdown",
   "id": "b20a074b",
   "metadata": {},
   "source": [
    "\n",
    "The bar chart above illustrates the top 10 hosts based on the calculated listing count, with Sonder (NYC) notably leading with 111,921 listings. Subsequently, the other hosts follow in descending order.\n",
    "- Karen at second postion with 42410 hosts\n",
    "- Jeniffer at third position with 31447 hosts\n",
    "- Blueground at fourth position with 21168 hosts\n",
    "- Kaz at fifth position with 17552 hosts\n",
    "- Corporate Housing at sixth position with 14833 hosts\n",
    "- Soya at seventh positon with 10260 hosts\n",
    "- Stay with vibe at eight position with 10260 hosts\n",
    "- Kara at ninth position with 10092 hosts\n",
    "- and finally Jeremy and Laura at tenth position 10080 hosts\n",
    "\n"
   ]
  },
  {
   "cell_type": "markdown",
   "id": "217a43e6",
   "metadata": {},
   "source": [
    "## are hosts with verified identities more likely to receive positive reviews ?"
   ]
  },
  {
   "cell_type": "code",
   "execution_count": 93,
   "id": "177ac725",
   "metadata": {},
   "outputs": [
    {
     "data": {
      "application/vnd.microsoft.datawrangler.viewer.v0+json": {
       "columns": [
        {
         "name": "host_identity_verified",
         "rawType": "object",
         "type": "string"
        },
        {
         "name": "review rate number",
         "rawType": "float64",
         "type": "float"
        }
       ],
       "ref": "65c0ecec-7d9c-4cd5-b24a-79c93588020a",
       "rows": [
        [
         "verified",
         "3.2841860353553525"
        ],
        [
         "unconfirmed",
         "3.273370086289549"
        ]
       ],
       "shape": {
        "columns": 1,
        "rows": 2
       }
      },
      "text/html": [
       "<div>\n",
       "<style scoped>\n",
       "    .dataframe tbody tr th:only-of-type {\n",
       "        vertical-align: middle;\n",
       "    }\n",
       "\n",
       "    .dataframe tbody tr th {\n",
       "        vertical-align: top;\n",
       "    }\n",
       "\n",
       "    .dataframe thead th {\n",
       "        text-align: right;\n",
       "    }\n",
       "</style>\n",
       "<table border=\"1\" class=\"dataframe\">\n",
       "  <thead>\n",
       "    <tr style=\"text-align: right;\">\n",
       "      <th></th>\n",
       "      <th>review rate number</th>\n",
       "    </tr>\n",
       "    <tr>\n",
       "      <th>host_identity_verified</th>\n",
       "      <th></th>\n",
       "    </tr>\n",
       "  </thead>\n",
       "  <tbody>\n",
       "    <tr>\n",
       "      <th>verified</th>\n",
       "      <td>3.284186</td>\n",
       "    </tr>\n",
       "    <tr>\n",
       "      <th>unconfirmed</th>\n",
       "      <td>3.273370</td>\n",
       "    </tr>\n",
       "  </tbody>\n",
       "</table>\n",
       "</div>"
      ],
      "text/plain": [
       "                        review rate number\n",
       "host_identity_verified                    \n",
       "verified                          3.284186\n",
       "unconfirmed                       3.273370"
      ]
     },
     "execution_count": 93,
     "metadata": {},
     "output_type": "execute_result"
    }
   ],
   "source": [
    "review = df.groupby('host_identity_verified')['review rate number'].mean().sort_values(ascending = False).to_frame()\n",
    "review"
   ]
  },
  {
   "cell_type": "code",
   "execution_count": 95,
   "id": "2df9ddf8",
   "metadata": {},
   "outputs": [
    {
     "data": {
      "image/png": "[encoded data removed]",
      "text/plain": [
       "<Figure size 640x480 with 1 Axes>"
      ]
     },
     "metadata": {},
     "output_type": "display_data"
    }
   ],
   "source": [
    "review_bar=plt.bar(review.index,review.loc[:,'review rate number']);\n",
    "plt.bar_label(review_bar,labels=round(review.loc[:,'review rate number'],2),padding=4);\n",
    "plt.ylim([0,4]);\n",
    "plt.xlabel('Host Identity Verified');\n",
    "plt.ylabel('Average Review Rate Number');\n",
    "plt.title('Average Review Rate Number by Host Identity Verification Status');\n",
    "plt.show()"
   ]
  },
  {
   "cell_type": "code",
   "execution_count": 99,
   "id": "60b779ac",
   "metadata": {},
   "outputs": [
    {
     "data": {
      "image/png": "[encoded data removed]",
      "text/plain": [
       "<Figure size 640x480 with 1 Axes>"
      ]
     },
     "metadata": {},
     "output_type": "display_data"
    }
   ],
   "source": [
    "base_color=sns.color_palette()[0]\n",
    "sns.boxplot(data=df,x='host_identity_verified',y='review rate number',color=base_color);\n",
    "plt.xlabel('Host Identity VerifICATION STATUS');\n",
    "plt.ylabel('Review Rate Number');\n",
    "plt.title('Distribution of Review Rate Number by Host Identity Verification Status');"
   ]
  },
  {
   "cell_type": "markdown",
   "id": "82303c87",
   "metadata": {},
   "source": [
    "The average review rates for verified and unconfirmed hosts are 3.27 and 3.28, respectively, indicating a marginal difference in their review rates, with unconfirmed hosts having a slightly higher rate. This suggests that verified hosts are not necessarily more likely to receive positive reviews compared to unconfirmed hosts."
   ]
  },
  {
   "cell_type": "markdown",
   "id": "36be4484",
   "metadata": {},
   "source": [
    "### is there a correlation between the prices of a listing and its services fee?\n"
   ]
  },
  {
   "cell_type": "code",
   "execution_count": 102,
   "id": "88f3eb1b",
   "metadata": {},
   "outputs": [
    {
     "data": {
      "image/png": "[encoded data removed]",
      "text/plain": [
       "<Figure size 640x480 with 1 Axes>"
      ]
     },
     "metadata": {},
     "output_type": "display_data"
    }
   ],
   "source": [
    "sns.regplot(data=df,x='price$',y='service fee$');\n",
    "plt.xlabel('price ($)');\n",
    "plt.ylabel('service fee ($)');\n",
    "plt.title('A Regression plot showing the Correlation between Price and Service Fee');"
   ]
  },
  {
   "cell_type": "markdown",
   "id": "3ca66fba",
   "metadata": {},
   "source": [
    "The Pearson correlation coefficient between the price and service fee is 0.99, indicating a highly robust positive correlation between these variables. On the regression plot, each point forms a rising diagonal  line towards the right, signifying that as the price of a property increases, so does its service fee."
   ]
  },
  {
   "cell_type": "markdown",
   "id": "d53a2a1c",
   "metadata": {},
   "source": [
    "### What is the average review rate number (e.g., stars) for listings, and does it vary based on the neighborhood group and room type?"
   ]
  },
  {
   "cell_type": "code",
   "execution_count": 105,
   "id": "9b926939",
   "metadata": {},
   "outputs": [
    {
     "data": {
      "application/vnd.microsoft.datawrangler.viewer.v0+json": {
       "columns": [
        {
         "name": "('neighbourhood group', 'room type')",
         "rawType": "object",
         "type": "unknown"
        },
        {
         "name": "review rate number",
         "rawType": "float64",
         "type": "float"
        }
       ],
       "ref": "a3e28a3b-7624-4111-b68a-4cc99080d12e",
       "rows": [
        [
         "('Bronx', 'Entire home/apt')",
         "3.381880733944954"
        ],
        [
         "('Bronx', 'Private room')",
         "3.305810397553517"
        ],
        [
         "('Bronx', 'Shared room')",
         "3.3563218390804597"
        ],
        [
         "('Brooklyn', 'Entire home/apt')",
         "3.2424908424908425"
        ],
        [
         "('Brooklyn', 'Hotel room')",
         "3.8333333333333335"
        ],
        [
         "('Brooklyn', 'Private room')",
         "3.2749048028497727"
        ],
        [
         "('Brooklyn', 'Shared room')",
         "3.3233830845771144"
        ],
        [
         "('Manhattan', 'Entire home/apt')",
         "3.268845800493206"
        ],
        [
         "('Manhattan', 'Hotel room')",
         "3.5"
        ],
        [
         "('Manhattan', 'Private room')",
         "3.285605425588661"
        ],
        [
         "('Manhattan', 'Shared room')",
         "3.2619760479041915"
        ],
        [
         "('Queens', 'Entire home/apt')",
         "3.350044964028777"
        ],
        [
         "('Queens', 'Hotel room')",
         "3.75"
        ],
        [
         "('Queens', 'Private room')",
         "3.3108467678822975"
        ],
        [
         "('Queens', 'Shared room')",
         "3.3274021352313166"
        ],
        [
         "('Staten Island', 'Entire home/apt')",
         "3.3333333333333335"
        ],
        [
         "('Staten Island', 'Private room')",
         "3.497448979591837"
        ],
        [
         "('Staten Island', 'Shared room')",
         "3.7142857142857144"
        ]
       ],
       "shape": {
        "columns": 1,
        "rows": 18
       }
      },
      "text/html": [
       "<div>\n",
       "<style scoped>\n",
       "    .dataframe tbody tr th:only-of-type {\n",
       "        vertical-align: middle;\n",
       "    }\n",
       "\n",
       "    .dataframe tbody tr th {\n",
       "        vertical-align: top;\n",
       "    }\n",
       "\n",
       "    .dataframe thead th {\n",
       "        text-align: right;\n",
       "    }\n",
       "</style>\n",
       "<table border=\"1\" class=\"dataframe\">\n",
       "  <thead>\n",
       "    <tr style=\"text-align: right;\">\n",
       "      <th></th>\n",
       "      <th></th>\n",
       "      <th>review rate number</th>\n",
       "    </tr>\n",
       "    <tr>\n",
       "      <th>neighbourhood group</th>\n",
       "      <th>room type</th>\n",
       "      <th></th>\n",
       "    </tr>\n",
       "  </thead>\n",
       "  <tbody>\n",
       "    <tr>\n",
       "      <th rowspan=\"3\" valign=\"top\">Bronx</th>\n",
       "      <th>Entire home/apt</th>\n",
       "      <td>3.381881</td>\n",
       "    </tr>\n",
       "    <tr>\n",
       "      <th>Private room</th>\n",
       "      <td>3.305810</td>\n",
       "    </tr>\n",
       "    <tr>\n",
       "      <th>Shared room</th>\n",
       "      <td>3.356322</td>\n",
       "    </tr>\n",
       "    <tr>\n",
       "      <th rowspan=\"4\" valign=\"top\">Brooklyn</th>\n",
       "      <th>Entire home/apt</th>\n",
       "      <td>3.242491</td>\n",
       "    </tr>\n",
       "    <tr>\n",
       "      <th>Hotel room</th>\n",
       "      <td>3.833333</td>\n",
       "    </tr>\n",
       "    <tr>\n",
       "      <th>Private room</th>\n",
       "      <td>3.274905</td>\n",
       "    </tr>\n",
       "    <tr>\n",
       "      <th>Shared room</th>\n",
       "      <td>3.323383</td>\n",
       "    </tr>\n",
       "    <tr>\n",
       "      <th rowspan=\"4\" valign=\"top\">Manhattan</th>\n",
       "      <th>Entire home/apt</th>\n",
       "      <td>3.268846</td>\n",
       "    </tr>\n",
       "    <tr>\n",
       "      <th>Hotel room</th>\n",
       "      <td>3.500000</td>\n",
       "    </tr>\n",
       "    <tr>\n",
       "      <th>Private room</th>\n",
       "      <td>3.285605</td>\n",
       "    </tr>\n",
       "    <tr>\n",
       "      <th>Shared room</th>\n",
       "      <td>3.261976</td>\n",
       "    </tr>\n",
       "    <tr>\n",
       "      <th rowspan=\"4\" valign=\"top\">Queens</th>\n",
       "      <th>Entire home/apt</th>\n",
       "      <td>3.350045</td>\n",
       "    </tr>\n",
       "    <tr>\n",
       "      <th>Hotel room</th>\n",
       "      <td>3.750000</td>\n",
       "    </tr>\n",
       "    <tr>\n",
       "      <th>Private room</th>\n",
       "      <td>3.310847</td>\n",
       "    </tr>\n",
       "    <tr>\n",
       "      <th>Shared room</th>\n",
       "      <td>3.327402</td>\n",
       "    </tr>\n",
       "    <tr>\n",
       "      <th rowspan=\"3\" valign=\"top\">Staten Island</th>\n",
       "      <th>Entire home/apt</th>\n",
       "      <td>3.333333</td>\n",
       "    </tr>\n",
       "    <tr>\n",
       "      <th>Private room</th>\n",
       "      <td>3.497449</td>\n",
       "    </tr>\n",
       "    <tr>\n",
       "      <th>Shared room</th>\n",
       "      <td>3.714286</td>\n",
       "    </tr>\n",
       "  </tbody>\n",
       "</table>\n",
       "</div>"
      ],
      "text/plain": [
       "                                     review rate number\n",
       "neighbourhood group room type                          \n",
       "Bronx               Entire home/apt            3.381881\n",
       "                    Private room               3.305810\n",
       "                    Shared room                3.356322\n",
       "Brooklyn            Entire home/apt            3.242491\n",
       "                    Hotel room                 3.833333\n",
       "                    Private room               3.274905\n",
       "                    Shared room                3.323383\n",
       "Manhattan           Entire home/apt            3.268846\n",
       "                    Hotel room                 3.500000\n",
       "                    Private room               3.285605\n",
       "                    Shared room                3.261976\n",
       "Queens              Entire home/apt            3.350045\n",
       "                    Hotel room                 3.750000\n",
       "                    Private room               3.310847\n",
       "                    Shared room                3.327402\n",
       "Staten Island       Entire home/apt            3.333333\n",
       "                    Private room               3.497449\n",
       "                    Shared room                3.714286"
      ]
     },
     "execution_count": 105,
     "metadata": {},
     "output_type": "execute_result"
    }
   ],
   "source": [
    "ARRN=df.groupby(['neighbourhood group','room type'])['review rate number'].mean().to_frame()\n",
    "ARRN"
   ]
  },
  {
   "cell_type": "code",
   "execution_count": 106,
   "id": "15dd01f7",
   "metadata": {},
   "outputs": [
    {
     "data": {
      "image/png": "[encoded data removed]",
      "text/plain": [
       "<Figure size 1200x600 with 1 Axes>"
      ]
     },
     "metadata": {},
     "output_type": "display_data"
    }
   ],
   "source": [
    "plt.figure(figsize=(12,6));\n",
    "sns.barplot(data=df,x='neighbourhood group',y='review rate number',hue='room type');\n",
    "plt.xlabel('Neighbourhood Group');\n",
    "plt.ylabel('Average Review Rate Number');\n",
    "plt.title('Average Review Rate Number for each room /property type in each Neighbourhood Group.');"
   ]
  },
  {
   "cell_type": "markdown",
   "id": "4ba3f83a",
   "metadata": {},
   "source": [
    "Hotel rooms exhibit has higher review rate compared to all other property types within the three neighborhood groups where they are located: Brooklyn, Manhattan, and Queens."
   ]
  },
  {
   "cell_type": "markdown",
   "id": "34cd68a6",
   "metadata": {},
   "source": [
    "### Are hosts with a higher calculated host listings count more likely to maintain higher availability throughout the year?"
   ]
  },
  {
   "cell_type": "code",
   "execution_count": 108,
   "id": "5d50d192",
   "metadata": {},
   "outputs": [
    {
     "data": {
      "image/png": "[encoded data removed]",
      "text/plain": [
       "<Figure size 640x480 with 1 Axes>"
      ]
     },
     "metadata": {},
     "output_type": "display_data"
    }
   ],
   "source": [
    "sns.regplot(df,x='calculated host listings count',y='availability 365');\n",
    "plt.xlabel('Calculated Host Listing Count');\n",
    "plt.ylabel('Availability 365');\n",
    "plt.title('Relationship between Calculated Host Listing Count and Availability 365');"
   ]
  },
  {
   "cell_type": "code",
   "execution_count": 112,
   "id": "8b0f5d38",
   "metadata": {},
   "outputs": [
    {
     "data": {
      "text/plain": [
       "0.13598552736758698"
      ]
     },
     "execution_count": 112,
     "metadata": {},
     "output_type": "execute_result"
    }
   ],
   "source": [
    "df['calculated host listings count'].corr(df['availability 365'])"
   ]
  },
  {
   "cell_type": "markdown",
   "id": "d1f6bfea",
   "metadata": {},
   "source": [
    "The Pearson correlation coefficient for the association between calculated host listings and availability 365 is 0.136, indicating a weak positive correlation between the two variables."
   ]
  },
  {
   "cell_type": "markdown",
   "id": "9fa631f7",
   "metadata": {},
   "source": [
    "## Conclusion "
   ]
  },
  {
   "cell_type": "markdown",
   "id": "32911beb",
   "metadata": {},
   "source": [
    "In conclusion, this project has provided a comprehensive analysis of the New York City Airbnb dataset, shedding light on various aspects of the short-term lodging market. Through data wrangling, exploratory data analysis (EDA), and interpretation of summary statistics, we've uncovered\n",
    "valuable insights into listing distribution, pricing dynamics, host, and review analysis.\n",
    "\n",
    "Key findings include the dominance in counts of Entire home/apt listings, the variability in listing counts across neighborhood groups, and the downward trend between property construction year and price. Additionally, the analysis highlighted the significance of verified host status on\n",
    "review rates, as well as the strong correlation between listing price and service fee.\n",
    "\n",
    "Furthermore, conducting sentiment analysis on guest reviews to understand factors driving customer satisfaction and preferences could inform targeted marketing strategies and product improvements for Airbnb. Lastly, expanding the analysis to include predictive modeling\n",
    "techniques, such as regression or machine learning algorithms, could enable forecasting of listing demand, pricing trends, and customer behavior, facilitating strategic decision-making for stakeholders in the short-term lodging industry."
   ]
  },
  {
   "cell_type": "code",
   "execution_count": null,
   "id": "b12f2bab",
   "metadata": {},
   "outputs": [],
   "source": []
  }
 ],
 "metadata": {
  "kernelspec": {
   "display_name": "Python 3",
   "language": "python",
   "name": "python3"
  },
  "language_info": {
   "codemirror_mode": {
    "name": "ipython",
    "version": 3
   },
   "file_extension": ".py",
   "mimetype": "text/x-python",
   "name": "python",
   "nbconvert_exporter": "python",
   "pygments_lexer": "ipython3",
   "version": "3.12.8"
  }
 },
 "nbformat": 4,
 "nbformat_minor": 5
}
